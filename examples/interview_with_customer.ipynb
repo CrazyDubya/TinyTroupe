{
 "cells": [
  {
   "cell_type": "markdown",
   "metadata": {},
   "source": [
    "# Interview with customers\n",
    "\n",
    "What if we could interview our precise target audience synthetically?\n"
   ]
  },
  {
   "cell_type": "code",
   "execution_count": 1,
   "metadata": {},
   "outputs": [
    {
     "name": "stdout",
     "output_type": "stream",
     "text": [
      "\n",
      "!!!!\n",
      "DISCLAIMER: TinyTroupe relies on Artificial Intelligence (AI) models to generate content. \n",
      "The AI models are not perfect and may produce inappropriate or inacurate results. \n",
      "For any serious or consequential use, please review the generated content before using it.\n",
      "!!!!\n",
      "\n",
      "Looking for default config on: c:\\Users\\pdasilva\\repos\\TinyTroupe\\examples\\..\\tinytroupe\\utils\\..\\config.ini\n",
      "Found custom config on: c:\\Users\\pdasilva\\repos\\TinyTroupe\\examples\\config.ini\n",
      "\n",
      "=================================\n",
      "Current TinyTroupe configuration \n",
      "=================================\n",
      "[OpenAI]\n",
      "api_type = openai\n",
      "azure_api_version = 2024-08-01-preview\n",
      "model = gpt-4o-mini\n",
      "reasoning_model = o3-mini\n",
      "embedding_model = text-embedding-3-small\n",
      "max_tokens = 16000\n",
      "temperature = 1.2\n",
      "freq_penalty = 0.0\n",
      "presence_penalty = 0.0\n",
      "timeout = 60\n",
      "max_attempts = 5\n",
      "waiting_time = 0\n",
      "exponential_backoff_factor = 5\n",
      "reasoning_effort = high\n",
      "cache_api_calls = False\n",
      "cache_file_name = openai_api_cache.pickle\n",
      "max_content_display_length = 1024\n",
      "azure_embedding_model_api_version = 2023-05-15\n",
      "\n",
      "[Simulation]\n",
      "parallel_agent_generation = True\n",
      "parallel_agent_actions = True\n",
      "rai_harmful_content_prevention = True\n",
      "rai_copyright_infringement_prevention = True\n",
      "\n",
      "[ActionGenerator]\n",
      "max_attempts = 2\n",
      "enable_quality_checks = False\n",
      "enable_regeneration = False\n",
      "enable_direct_correction = False\n",
      "continue_on_failure = True\n",
      "quality_threshold = 2\n",
      "\n",
      "[Logging]\n",
      "loglevel = ERROR\n",
      "\n"
     ]
    }
   ],
   "source": [
    "import json\n",
    "import sys\n",
    "sys.path.insert(0, '..')\n",
    "\n",
    "import tinytroupe\n",
    "from tinytroupe.agent import TinyPerson\n",
    "from tinytroupe.environment import TinyWorld, TinySocialNetwork\n",
    "from tinytroupe.factory import TinyPersonFactory\n",
    "from tinytroupe.extraction import ResultsReducer\n",
    "from tinytroupe.validation import TinyPersonValidator\n",
    "import tinytroupe.control as control"
   ]
  },
  {
   "cell_type": "markdown",
   "metadata": {},
   "source": [
    "Let's create the specific types of agents we need to collect data."
   ]
  },
  {
   "cell_type": "code",
   "execution_count": 2,
   "metadata": {},
   "outputs": [],
   "source": [
    "factory = TinyPersonFactory(\"One of the largest banks in Brazil, full of bureaucracy and legacy systems.\")\n",
    "\n",
    "customer = factory.generate_person(\n",
    "    \"\"\"\n",
    "    The vice-president of one product innovation. Has a degree in engineering and a MBA in finance. \n",
    "    Is facing a lot of pressure from the board of directors to fight off the competition from the fintechs.    \n",
    "    \"\"\"\n",
    ")"
   ]
  },
  {
   "cell_type": "code",
   "execution_count": 3,
   "metadata": {},
   "outputs": [
    {
     "data": {
      "text/plain": [
       "'Emily Carter is a 42 year old Vice President of Product Innovation, American, currently living in San Francisco, California. Emily Carter is not only a driven professional but also a passionate advocate for women in technology, frequently speaking at events to inspire young girls to pursue careers in STEM. Her love for travel has taken her to over 15 countries, where she immerses herself in local cultures and cuisines, reflecting her high openness to new experiences. Outside of work, Emily prioritizes her health through regular exercise and mindfulness practices, which help her manage the stress that comes with her demanding role. She enjoys cooking and experimenting with healthy recipes, believing that nutrition is essential for maintaining her overall well-being and energy levels.'"
      ]
     },
     "execution_count": 3,
     "metadata": {},
     "output_type": "execute_result"
    }
   ],
   "source": [
    "customer.minibio()"
   ]
  },
  {
   "cell_type": "markdown",
   "metadata": {},
   "source": [
    "Let's validate it now."
   ]
  },
  {
   "cell_type": "code",
   "execution_count": 4,
   "metadata": {},
   "outputs": [
    {
     "data": {
      "text/html": [
       "<pre style=\"margin:0px;;white-space:pre;overflow-x:auto;line-height:normal;font-family:Menlo,'DejaVu Sans Mono',consolas,'Courier New',monospace\"><span style=\"color: #00ffff; text-decoration-color: #00ffff; font-weight: bold; font-style: italic; text-decoration: underline\">USER</span><span style=\"color: #00ffff; text-decoration-color: #00ffff; font-weight: bold; font-style: italic\"> --&gt; </span><span style=\"color: #00ffff; text-decoration-color: #00ffff; font-weight: bold; font-style: italic; text-decoration: underline\">Emily Carter</span><span style=\"color: #00ffff; text-decoration-color: #00ffff; font-weight: bold; font-style: italic\">: [CONVERSATION] </span>\n",
       "<span style=\"color: #00ffff; text-decoration-color: #00ffff; font-weight: bold; font-style: italic\">          &gt; Hello, I'd love to know you better. Please, could you reply to the following questions:</span>\n",
       "<span style=\"color: #00ffff; text-decoration-color: #00ffff; font-weight: bold; font-style: italic\">          &gt; 1. What is your name? 2. How old are you? 3. Where were you born? 4. What is your</span>\n",
       "<span style=\"color: #00ffff; text-decoration-color: #00ffff; font-weight: bold; font-style: italic\">          &gt; occupation? 5. Are you currently living in San Francisco? 6. How would you describe your</span>\n",
       "<span style=\"color: #00ffff; text-decoration-color: #00ffff; font-weight: bold; font-style: italic\">          &gt; financial situation? 7. How many countries have you traveled to, and which one was your</span>\n",
       "<span style=\"color: #00ffff; text-decoration-color: #00ffff; font-weight: bold; font-style: italic\">          &gt; favorite? 8. Do you have any hobbies or interests outside of work? 9. What is your</span>\n",
       "<span style=\"color: #00ffff; text-decoration-color: #00ffff; font-weight: bold; font-style: italic\">          &gt; favorite type of cuisine? 10. How do you usually manage stress in your life?   After</span>\n",
       "<span style=\"color: #00ffff; text-decoration-color: #00ffff; font-weight: bold; font-style: italic\">          &gt; this block of questions, I will ask you about your beliefs and behaviors in various</span>\n",
       "<span style=\"color: #00ffff; text-decoration-color: #00ffff; font-weight: bold; font-style: italic\">          &gt; situations.</span>\n",
       "</pre>\n"
      ],
      "text/plain": [
       "\u001b[1;3;4;38;5;51mUSER\u001b[0m\u001b[1;3;38;5;51m --> \u001b[0m\u001b[1;3;4;38;5;51mEmily Carter\u001b[0m\u001b[1;3;38;5;51m: \u001b[0m\u001b[1;3;38;5;51m[\u001b[0m\u001b[1;3;38;5;51mCONVERSATION\u001b[0m\u001b[1;3;38;5;51m]\u001b[0m\u001b[1;3;38;5;51m \u001b[0m\n",
       "\u001b[1;3;38;5;51m          > Hello, I'd love to know you better. Please, could you reply to the following questions:\u001b[0m\n",
       "\u001b[1;3;38;5;51m          > \u001b[0m\u001b[1;3;38;5;51m1\u001b[0m\u001b[1;3;38;5;51m. What is your name? \u001b[0m\u001b[1;3;38;5;51m2\u001b[0m\u001b[1;3;38;5;51m. How old are you? \u001b[0m\u001b[1;3;38;5;51m3\u001b[0m\u001b[1;3;38;5;51m. Where were you born? \u001b[0m\u001b[1;3;38;5;51m4\u001b[0m\u001b[1;3;38;5;51m. What is your\u001b[0m\n",
       "\u001b[1;3;38;5;51m          > occupation? \u001b[0m\u001b[1;3;38;5;51m5\u001b[0m\u001b[1;3;38;5;51m. Are you currently living in San Francisco? \u001b[0m\u001b[1;3;38;5;51m6\u001b[0m\u001b[1;3;38;5;51m. How would you describe your\u001b[0m\n",
       "\u001b[1;3;38;5;51m          > financial situation? \u001b[0m\u001b[1;3;38;5;51m7\u001b[0m\u001b[1;3;38;5;51m. How many countries have you traveled to, and which one was your\u001b[0m\n",
       "\u001b[1;3;38;5;51m          > favorite? \u001b[0m\u001b[1;3;38;5;51m8\u001b[0m\u001b[1;3;38;5;51m. Do you have any hobbies or interests outside of work? \u001b[0m\u001b[1;3;38;5;51m9\u001b[0m\u001b[1;3;38;5;51m. What is your\u001b[0m\n",
       "\u001b[1;3;38;5;51m          > favorite type of cuisine? \u001b[0m\u001b[1;3;38;5;51m10\u001b[0m\u001b[1;3;38;5;51m. How do you usually manage stress in your life?   After\u001b[0m\n",
       "\u001b[1;3;38;5;51m          > this block of questions, I will ask you about your beliefs and behaviors in various\u001b[0m\n",
       "\u001b[1;3;38;5;51m          > situations.\u001b[0m\n"
      ]
     },
     "metadata": {},
     "output_type": "display_data"
    },
    {
     "data": {
      "text/html": [
       "<pre style=\"margin:0px;;white-space:pre;overflow-x:auto;line-height:normal;font-family:Menlo,'DejaVu Sans Mono',consolas,'Courier New',monospace\"><span style=\"color: #00d700; text-decoration-color: #00d700; font-weight: bold; text-decoration: underline\">Emily Carter</span><span style=\"color: #00d700; text-decoration-color: #00d700; font-weight: bold\"> acts: [TALK] </span>\n",
       "<span style=\"color: #00d700; text-decoration-color: #00d700; font-weight: bold\">                  &gt; Hello! I'm Emily Carter. I'm </span><span style=\"color: #00d700; text-decoration-color: #00d700; font-weight: bold\">42</span><span style=\"color: #00d700; text-decoration-color: #00d700; font-weight: bold\"> years old and I was born in New Jersey.</span>\n",
       "<span style=\"color: #00d700; text-decoration-color: #00d700; font-weight: bold\">                  &gt; Currently, I work as the Vice President of Product Innovation at FinTech</span>\n",
       "<span style=\"color: #00d700; text-decoration-color: #00d700; font-weight: bold\">                  &gt; Solutions Inc. Yes, I live in San Francisco. My financial situation is stable,</span>\n",
       "<span style=\"color: #00d700; text-decoration-color: #00d700; font-weight: bold\">                  &gt; and I have traveled to over </span><span style=\"color: #00d700; text-decoration-color: #00d700; font-weight: bold\">15</span><span style=\"color: #00d700; text-decoration-color: #00d700; font-weight: bold\"> countries; my favorite was Japan for its culture</span>\n",
       "<span style=\"color: #00d700; text-decoration-color: #00d700; font-weight: bold\">                  &gt; and cuisine. Outside of work, I enjoy hiking, cooking, and practicing yoga. My</span>\n",
       "<span style=\"color: #00d700; text-decoration-color: #00d700; font-weight: bold\">                  &gt; favorite type of cuisine is healthy, and I manage stress through exercise and</span>\n",
       "<span style=\"color: #00d700; text-decoration-color: #00d700; font-weight: bold\">                  &gt; mindfulness practices.</span>\n",
       "</pre>\n"
      ],
      "text/plain": [
       "\u001b[1;4;38;5;40mEmily Carter\u001b[0m\u001b[1;38;5;40m acts: \u001b[0m\u001b[1;38;5;40m[\u001b[0m\u001b[1;38;5;40mTALK\u001b[0m\u001b[1;38;5;40m]\u001b[0m\u001b[1;38;5;40m \u001b[0m\n",
       "\u001b[1;38;5;40m                  > Hello! I'm Emily Carter. I'm \u001b[0m\u001b[1;38;5;40m42\u001b[0m\u001b[1;38;5;40m years old and I was born in New Jersey.\u001b[0m\n",
       "\u001b[1;38;5;40m                  > Currently, I work as the Vice President of Product Innovation at FinTech\u001b[0m\n",
       "\u001b[1;38;5;40m                  > Solutions Inc. Yes, I live in San Francisco. My financial situation is stable,\u001b[0m\n",
       "\u001b[1;38;5;40m                  > and I have traveled to over \u001b[0m\u001b[1;38;5;40m15\u001b[0m\u001b[1;38;5;40m countries; my favorite was Japan for its culture\u001b[0m\n",
       "\u001b[1;38;5;40m                  > and cuisine. Outside of work, I enjoy hiking, cooking, and practicing yoga. My\u001b[0m\n",
       "\u001b[1;38;5;40m                  > favorite type of cuisine is healthy, and I manage stress through exercise and\u001b[0m\n",
       "\u001b[1;38;5;40m                  > mindfulness practices.\u001b[0m\n"
      ]
     },
     "metadata": {},
     "output_type": "display_data"
    },
    {
     "data": {
      "text/html": [
       "<pre style=\"margin:0px;;white-space:pre;overflow-x:auto;line-height:normal;font-family:Menlo,'DejaVu Sans Mono',consolas,'Courier New',monospace\"><span style=\"color: #d0d0d0; text-decoration-color: #d0d0d0; text-decoration: underline\">Emily Carter</span><span style=\"color: #d0d0d0; text-decoration-color: #d0d0d0\"> acts: </span><span style=\"color: #d0d0d0; text-decoration-color: #d0d0d0; font-weight: bold\">[</span><span style=\"color: #d0d0d0; text-decoration-color: #d0d0d0\">DONE</span><span style=\"color: #d0d0d0; text-decoration-color: #d0d0d0; font-weight: bold\">]</span><span style=\"color: #d0d0d0; text-decoration-color: #d0d0d0\"> </span>\n",
       "\n",
       "</pre>\n"
      ],
      "text/plain": [
       "\u001b[4;38;5;252mEmily Carter\u001b[0m\u001b[38;5;252m acts: \u001b[0m\u001b[1;38;5;252m[\u001b[0m\u001b[38;5;252mDONE\u001b[0m\u001b[1;38;5;252m]\u001b[0m\u001b[38;5;252m \u001b[0m\n",
       "\n"
      ]
     },
     "metadata": {},
     "output_type": "display_data"
    },
    {
     "data": {
      "text/html": [
       "<pre style=\"margin:0px;;white-space:pre;overflow-x:auto;line-height:normal;font-family:Menlo,'DejaVu Sans Mono',consolas,'Courier New',monospace\"><span style=\"color: #00ffff; text-decoration-color: #00ffff; font-weight: bold; font-style: italic; text-decoration: underline\">USER</span><span style=\"color: #00ffff; text-decoration-color: #00ffff; font-weight: bold; font-style: italic\"> --&gt; </span><span style=\"color: #00ffff; text-decoration-color: #00ffff; font-weight: bold; font-style: italic; text-decoration: underline\">Emily Carter</span><span style=\"color: #00ffff; text-decoration-color: #00ffff; font-weight: bold; font-style: italic\">: [CONVERSATION] </span>\n",
       "<span style=\"color: #00ffff; text-decoration-color: #00ffff; font-weight: bold; font-style: italic\">          &gt; Thank you for your responses, Emily! Now, I would like to ask you some behavioral</span>\n",
       "<span style=\"color: #00ffff; text-decoration-color: #00ffff; font-weight: bold; font-style: italic\">          &gt; questions to understand your beliefs and how you would act in different situations:  11.</span>\n",
       "<span style=\"color: #00ffff; text-decoration-color: #00ffff; font-weight: bold; font-style: italic\">          &gt; If you had to choose between attending a high-profile networking event or spending a</span>\n",
       "<span style=\"color: #00ffff; text-decoration-color: #00ffff; font-weight: bold; font-style: italic\">          &gt; weekend in a remote cabin to recharge, which would you choose and why? 12. Imagine you</span>\n",
       "<span style=\"color: #00ffff; text-decoration-color: #00ffff; font-weight: bold; font-style: italic\">          &gt; are at a dinner party, and someone starts discussing their dislike for taxes and</span>\n",
       "<span style=\"color: #00ffff; text-decoration-color: #00ffff; font-weight: bold; font-style: italic\">          &gt; regulations. How would you respond to that conversation? 13. If you were offered a</span>\n",
       "<span style=\"color: #00ffff; text-decoration-color: #00ffff; font-weight: bold; font-style: italic\">          &gt; chance to invest in a startup that you believe has potential but is in a highly</span>\n",
       "<span style=\"color: #00ffff; text-decoration-color: #00ffff; font-weight: bold; font-style: italic\">          &gt; regulated industry, would you take the risk? Why or why not? 14. How do you feel about</span>\n",
       "<span style=\"color: #00ffff; text-decoration-color: #00ffff; font-weight: bold; font-style: italic\">          &gt; the current state of women in technology? What do you think can be done to improve their</span>\n",
       "<span style=\"color: #00ffff; text-decoration-color: #00ffff; font-weight: bold; font-style: italic\">          &gt; representation? 15. If you had to choose between reading a book on finance or playing a</span>\n",
       "<span style=\"color: #00ffff; text-decoration-color: #00ffff; font-weight: bold; font-style: italic\">          &gt; round of golf with friends, which would you prefer and why?   Please take your time to</span>\n",
       "<span style=\"color: #00ffff; text-decoration-color: #00ffff; font-weight: bold; font-style: italic\">          &gt; answer these questions!</span>\n",
       "</pre>\n"
      ],
      "text/plain": [
       "\u001b[1;3;4;38;5;51mUSER\u001b[0m\u001b[1;3;38;5;51m --> \u001b[0m\u001b[1;3;4;38;5;51mEmily Carter\u001b[0m\u001b[1;3;38;5;51m: \u001b[0m\u001b[1;3;38;5;51m[\u001b[0m\u001b[1;3;38;5;51mCONVERSATION\u001b[0m\u001b[1;3;38;5;51m]\u001b[0m\u001b[1;3;38;5;51m \u001b[0m\n",
       "\u001b[1;3;38;5;51m          > Thank you for your responses, Emily! Now, I would like to ask you some behavioral\u001b[0m\n",
       "\u001b[1;3;38;5;51m          > questions to understand your beliefs and how you would act in different situations:  \u001b[0m\u001b[1;3;38;5;51m11\u001b[0m\u001b[1;3;38;5;51m.\u001b[0m\n",
       "\u001b[1;3;38;5;51m          > If you had to choose between attending a high-profile networking event or spending a\u001b[0m\n",
       "\u001b[1;3;38;5;51m          > weekend in a remote cabin to recharge, which would you choose and why? \u001b[0m\u001b[1;3;38;5;51m12\u001b[0m\u001b[1;3;38;5;51m. Imagine you\u001b[0m\n",
       "\u001b[1;3;38;5;51m          > are at a dinner party, and someone starts discussing their dislike for taxes and\u001b[0m\n",
       "\u001b[1;3;38;5;51m          > regulations. How would you respond to that conversation? \u001b[0m\u001b[1;3;38;5;51m13\u001b[0m\u001b[1;3;38;5;51m. If you were offered a\u001b[0m\n",
       "\u001b[1;3;38;5;51m          > chance to invest in a startup that you believe has potential but is in a highly\u001b[0m\n",
       "\u001b[1;3;38;5;51m          > regulated industry, would you take the risk? Why or why not? \u001b[0m\u001b[1;3;38;5;51m14\u001b[0m\u001b[1;3;38;5;51m. How do you feel about\u001b[0m\n",
       "\u001b[1;3;38;5;51m          > the current state of women in technology? What do you think can be done to improve their\u001b[0m\n",
       "\u001b[1;3;38;5;51m          > representation? \u001b[0m\u001b[1;3;38;5;51m15\u001b[0m\u001b[1;3;38;5;51m. If you had to choose between reading a book on finance or playing a\u001b[0m\n",
       "\u001b[1;3;38;5;51m          > round of golf with friends, which would you prefer and why?   Please take your time to\u001b[0m\n",
       "\u001b[1;3;38;5;51m          > answer these questions!\u001b[0m\n"
      ]
     },
     "metadata": {},
     "output_type": "display_data"
    },
    {
     "data": {
      "text/html": [
       "<pre style=\"margin:0px;;white-space:pre;overflow-x:auto;line-height:normal;font-family:Menlo,'DejaVu Sans Mono',consolas,'Courier New',monospace\"><span style=\"color: #00d700; text-decoration-color: #00d700; font-weight: bold; text-decoration: underline\">Emily Carter</span><span style=\"color: #00d700; text-decoration-color: #00d700; font-weight: bold\"> acts: [TALK] </span>\n",
       "<span style=\"color: #00d700; text-decoration-color: #00d700; font-weight: bold\">                  &gt; Thank you for the thoughtful questions! Here are my responses:  </span><span style=\"color: #00d700; text-decoration-color: #00d700; font-weight: bold\">11</span><span style=\"color: #00d700; text-decoration-color: #00d700; font-weight: bold\">. I would</span>\n",
       "<span style=\"color: #00d700; text-decoration-color: #00d700; font-weight: bold\">                  &gt; choose to attend the high-profile networking event. While I value recharging,</span>\n",
       "<span style=\"color: #00d700; text-decoration-color: #00d700; font-weight: bold\">                  &gt; networking is crucial for my role, and I often find inspiration and new ideas at</span>\n",
       "<span style=\"color: #00d700; text-decoration-color: #00d700; font-weight: bold\">                  &gt; such events.  </span><span style=\"color: #00d700; text-decoration-color: #00d700; font-weight: bold\">12</span><span style=\"color: #00d700; text-decoration-color: #00d700; font-weight: bold\">. At the dinner party, I would acknowledge their feelings but</span>\n",
       "<span style=\"color: #00d700; text-decoration-color: #00d700; font-weight: bold\">                  &gt; also share my perspective on the importance of taxes and regulations in</span>\n",
       "<span style=\"color: #00d700; text-decoration-color: #00d700; font-weight: bold\">                  &gt; maintaining a fair and functioning society. It's essential to have a balanced</span>\n",
       "<span style=\"color: #00d700; text-decoration-color: #00d700; font-weight: bold\">                  &gt; view on these topics.  </span><span style=\"color: #00d700; text-decoration-color: #00d700; font-weight: bold\">13</span><span style=\"color: #00d700; text-decoration-color: #00d700; font-weight: bold\">. I would consider investing in the startup if I</span>\n",
       "<span style=\"color: #00d700; text-decoration-color: #00d700; font-weight: bold\">                  &gt; believe in its potential and the team behind it. However, I would also conduct</span>\n",
       "<span style=\"color: #00d700; text-decoration-color: #00d700; font-weight: bold\">                  &gt; thorough research on the regulatory landscape to understand the risks involved.</span>\n",
       "<span style=\"color: #00d700; text-decoration-color: #00d700; font-weight: bold\">                  &gt; </span><span style=\"color: #00d700; text-decoration-color: #00d700; font-weight: bold\">14</span><span style=\"color: #00d700; text-decoration-color: #00d700; font-weight: bold\">. I feel that while progress has been made, there is still a long way to go</span>\n",
       "<span style=\"color: #00d700; text-decoration-color: #00d700; font-weight: bold\">                  &gt; for women in technology. To improve representation, we need to promote STEM</span>\n",
       "<span style=\"color: #00d700; text-decoration-color: #00d700; font-weight: bold\">                  &gt; education for young girls and create more mentorship opportunities in the</span>\n",
       "<span style=\"color: #00d700; text-decoration-color: #00d700; font-weight: bold\">                  &gt; industry.  </span><span style=\"color: #00d700; text-decoration-color: #00d700; font-weight: bold\">15</span><span style=\"color: #00d700; text-decoration-color: #00d700; font-weight: bold\">. I would prefer reading a book on finance. Continuous learning is</span>\n",
       "<span style=\"color: #00d700; text-decoration-color: #00d700; font-weight: bold\">                  &gt; vital for my career, and I enjoy staying updated on financial trends and</span>\n",
       "<span style=\"color: #00d700; text-decoration-color: #00d700; font-weight: bold\">                  &gt; strategies.</span>\n",
       "</pre>\n"
      ],
      "text/plain": [
       "\u001b[1;4;38;5;40mEmily Carter\u001b[0m\u001b[1;38;5;40m acts: \u001b[0m\u001b[1;38;5;40m[\u001b[0m\u001b[1;38;5;40mTALK\u001b[0m\u001b[1;38;5;40m]\u001b[0m\u001b[1;38;5;40m \u001b[0m\n",
       "\u001b[1;38;5;40m                  > Thank you for the thoughtful questions! Here are my responses:  \u001b[0m\u001b[1;38;5;40m11\u001b[0m\u001b[1;38;5;40m. I would\u001b[0m\n",
       "\u001b[1;38;5;40m                  > choose to attend the high-profile networking event. While I value recharging,\u001b[0m\n",
       "\u001b[1;38;5;40m                  > networking is crucial for my role, and I often find inspiration and new ideas at\u001b[0m\n",
       "\u001b[1;38;5;40m                  > such events.  \u001b[0m\u001b[1;38;5;40m12\u001b[0m\u001b[1;38;5;40m. At the dinner party, I would acknowledge their feelings but\u001b[0m\n",
       "\u001b[1;38;5;40m                  > also share my perspective on the importance of taxes and regulations in\u001b[0m\n",
       "\u001b[1;38;5;40m                  > maintaining a fair and functioning society. It's essential to have a balanced\u001b[0m\n",
       "\u001b[1;38;5;40m                  > view on these topics.  \u001b[0m\u001b[1;38;5;40m13\u001b[0m\u001b[1;38;5;40m. I would consider investing in the startup if I\u001b[0m\n",
       "\u001b[1;38;5;40m                  > believe in its potential and the team behind it. However, I would also conduct\u001b[0m\n",
       "\u001b[1;38;5;40m                  > thorough research on the regulatory landscape to understand the risks involved.\u001b[0m\n",
       "\u001b[1;38;5;40m                  > \u001b[0m\u001b[1;38;5;40m14\u001b[0m\u001b[1;38;5;40m. I feel that while progress has been made, there is still a long way to go\u001b[0m\n",
       "\u001b[1;38;5;40m                  > for women in technology. To improve representation, we need to promote STEM\u001b[0m\n",
       "\u001b[1;38;5;40m                  > education for young girls and create more mentorship opportunities in the\u001b[0m\n",
       "\u001b[1;38;5;40m                  > industry.  \u001b[0m\u001b[1;38;5;40m15\u001b[0m\u001b[1;38;5;40m. I would prefer reading a book on finance. Continuous learning is\u001b[0m\n",
       "\u001b[1;38;5;40m                  > vital for my career, and I enjoy staying updated on financial trends and\u001b[0m\n",
       "\u001b[1;38;5;40m                  > strategies.\u001b[0m\n"
      ]
     },
     "metadata": {},
     "output_type": "display_data"
    },
    {
     "data": {
      "text/html": [
       "<pre style=\"margin:0px;;white-space:pre;overflow-x:auto;line-height:normal;font-family:Menlo,'DejaVu Sans Mono',consolas,'Courier New',monospace\"><span style=\"color: #d0d0d0; text-decoration-color: #d0d0d0; text-decoration: underline\">Emily Carter</span><span style=\"color: #d0d0d0; text-decoration-color: #d0d0d0\"> acts: </span><span style=\"color: #d0d0d0; text-decoration-color: #d0d0d0; font-weight: bold\">[</span><span style=\"color: #d0d0d0; text-decoration-color: #d0d0d0\">DONE</span><span style=\"color: #d0d0d0; text-decoration-color: #d0d0d0; font-weight: bold\">]</span><span style=\"color: #d0d0d0; text-decoration-color: #d0d0d0\"> </span>\n",
       "\n",
       "</pre>\n"
      ],
      "text/plain": [
       "\u001b[4;38;5;252mEmily Carter\u001b[0m\u001b[38;5;252m acts: \u001b[0m\u001b[1;38;5;252m[\u001b[0m\u001b[38;5;252mDONE\u001b[0m\u001b[1;38;5;252m]\u001b[0m\u001b[38;5;252m \u001b[0m\n",
       "\n"
      ]
     },
     "metadata": {},
     "output_type": "display_data"
    },
    {
     "data": {
      "text/html": [
       "<pre style=\"margin:0px;;white-space:pre;overflow-x:auto;line-height:normal;font-family:Menlo,'DejaVu Sans Mono',consolas,'Courier New',monospace\"><span style=\"color: #00ffff; text-decoration-color: #00ffff; font-weight: bold; font-style: italic; text-decoration: underline\">USER</span><span style=\"color: #00ffff; text-decoration-color: #00ffff; font-weight: bold; font-style: italic\"> --&gt; </span><span style=\"color: #00ffff; text-decoration-color: #00ffff; font-weight: bold; font-style: italic; text-decoration: underline\">Emily Carter</span><span style=\"color: #00ffff; text-decoration-color: #00ffff; font-weight: bold; font-style: italic\">: [CONVERSATION] </span>\n",
       "<span style=\"color: #00ffff; text-decoration-color: #00ffff; font-weight: bold; font-style: italic\">          &gt; Thank you for your detailed responses, Emily! I appreciate your insights. I have a few</span>\n",
       "<span style=\"color: #00ffff; text-decoration-color: #00ffff; font-weight: bold; font-style: italic\">          &gt; more questions to further explore your beliefs and behaviors:  16. If you were given the</span>\n",
       "<span style=\"color: #00ffff; text-decoration-color: #00ffff; font-weight: bold; font-style: italic\">          &gt; opportunity to lead a project that focuses on promoting women in technology but requires</span>\n",
       "<span style=\"color: #00ffff; text-decoration-color: #00ffff; font-weight: bold; font-style: italic\">          &gt; a significant amount of your time, would you take it? What factors would influence your</span>\n",
       "<span style=\"color: #00ffff; text-decoration-color: #00ffff; font-weight: bold; font-style: italic\">          &gt; decision? 17. How do you feel about the idea of spending a large sum of money on a</span>\n",
       "<span style=\"color: #00ffff; text-decoration-color: #00ffff; font-weight: bold; font-style: italic\">          &gt; luxury vacation? Would you prioritize experiences over material possessions? 18. If you</span>\n",
       "<span style=\"color: #00ffff; text-decoration-color: #00ffff; font-weight: bold; font-style: italic\">          &gt; found out that a close colleague was involved in unethical practices to achieve success,</span>\n",
       "<span style=\"color: #00ffff; text-decoration-color: #00ffff; font-weight: bold; font-style: italic\">          &gt; what would you do? 19. Imagine you are at a fine dining restaurant, and the wine list is</span>\n",
       "<span style=\"color: #00ffff; text-decoration-color: #00ffff; font-weight: bold; font-style: italic\">          &gt; extensive. How do you choose a wine, and do you have a preference for certain types or</span>\n",
       "<span style=\"color: #00ffff; text-decoration-color: #00ffff; font-weight: bold; font-style: italic\">          &gt; regions? 20. If you had to choose between a high-paying job that you find unfulfilling</span>\n",
       "<span style=\"color: #00ffff; text-decoration-color: #00ffff; font-weight: bold; font-style: italic\">          &gt; and a lower-paying job that you are passionate about, which would you choose and why?</span>\n",
       "<span style=\"color: #00ffff; text-decoration-color: #00ffff; font-weight: bold; font-style: italic\">          &gt; Please take your time to answer these questions!</span>\n",
       "</pre>\n"
      ],
      "text/plain": [
       "\u001b[1;3;4;38;5;51mUSER\u001b[0m\u001b[1;3;38;5;51m --> \u001b[0m\u001b[1;3;4;38;5;51mEmily Carter\u001b[0m\u001b[1;3;38;5;51m: \u001b[0m\u001b[1;3;38;5;51m[\u001b[0m\u001b[1;3;38;5;51mCONVERSATION\u001b[0m\u001b[1;3;38;5;51m]\u001b[0m\u001b[1;3;38;5;51m \u001b[0m\n",
       "\u001b[1;3;38;5;51m          > Thank you for your detailed responses, Emily! I appreciate your insights. I have a few\u001b[0m\n",
       "\u001b[1;3;38;5;51m          > more questions to further explore your beliefs and behaviors:  \u001b[0m\u001b[1;3;38;5;51m16\u001b[0m\u001b[1;3;38;5;51m. If you were given the\u001b[0m\n",
       "\u001b[1;3;38;5;51m          > opportunity to lead a project that focuses on promoting women in technology but requires\u001b[0m\n",
       "\u001b[1;3;38;5;51m          > a significant amount of your time, would you take it? What factors would influence your\u001b[0m\n",
       "\u001b[1;3;38;5;51m          > decision? \u001b[0m\u001b[1;3;38;5;51m17\u001b[0m\u001b[1;3;38;5;51m. How do you feel about the idea of spending a large sum of money on a\u001b[0m\n",
       "\u001b[1;3;38;5;51m          > luxury vacation? Would you prioritize experiences over material possessions? \u001b[0m\u001b[1;3;38;5;51m18\u001b[0m\u001b[1;3;38;5;51m. If you\u001b[0m\n",
       "\u001b[1;3;38;5;51m          > found out that a close colleague was involved in unethical practices to achieve success,\u001b[0m\n",
       "\u001b[1;3;38;5;51m          > what would you do? \u001b[0m\u001b[1;3;38;5;51m19\u001b[0m\u001b[1;3;38;5;51m. Imagine you are at a fine dining restaurant, and the wine list is\u001b[0m\n",
       "\u001b[1;3;38;5;51m          > extensive. How do you choose a wine, and do you have a preference for certain types or\u001b[0m\n",
       "\u001b[1;3;38;5;51m          > regions? \u001b[0m\u001b[1;3;38;5;51m20\u001b[0m\u001b[1;3;38;5;51m. If you had to choose between a high-paying job that you find unfulfilling\u001b[0m\n",
       "\u001b[1;3;38;5;51m          > and a lower-paying job that you are passionate about, which would you choose and why?\u001b[0m\n",
       "\u001b[1;3;38;5;51m          > Please take your time to answer these questions!\u001b[0m\n"
      ]
     },
     "metadata": {},
     "output_type": "display_data"
    },
    {
     "data": {
      "text/html": [
       "<pre style=\"margin:0px;;white-space:pre;overflow-x:auto;line-height:normal;font-family:Menlo,'DejaVu Sans Mono',consolas,'Courier New',monospace\"><span style=\"color: #00d700; text-decoration-color: #00d700; font-weight: bold; text-decoration: underline\">Emily Carter</span><span style=\"color: #00d700; text-decoration-color: #00d700; font-weight: bold\"> acts: [TALK] </span>\n",
       "<span style=\"color: #00d700; text-decoration-color: #00d700; font-weight: bold\">                  &gt; Thank you for your continued interest! Here are my responses to your latest</span>\n",
       "<span style=\"color: #00d700; text-decoration-color: #00d700; font-weight: bold\">                  &gt; questions:  </span><span style=\"color: #00d700; text-decoration-color: #00d700; font-weight: bold\">16</span><span style=\"color: #00d700; text-decoration-color: #00d700; font-weight: bold\">. I would definitely consider leading a project that promotes</span>\n",
       "<span style=\"color: #00d700; text-decoration-color: #00d700; font-weight: bold\">                  &gt; women in technology. Factors influencing my decision would include the potential</span>\n",
       "<span style=\"color: #00d700; text-decoration-color: #00d700; font-weight: bold\">                  &gt; impact of the project, the support I would have from my organization, and how it</span>\n",
       "<span style=\"color: #00d700; text-decoration-color: #00d700; font-weight: bold\">                  &gt; aligns with my long-term goals of fostering diversity in tech.  </span><span style=\"color: #00d700; text-decoration-color: #00d700; font-weight: bold\">17</span><span style=\"color: #00d700; text-decoration-color: #00d700; font-weight: bold\">. I believe in</span>\n",
       "<span style=\"color: #00d700; text-decoration-color: #00d700; font-weight: bold\">                  &gt; prioritizing experiences over material possessions. A luxury vacation can</span>\n",
       "<span style=\"color: #00d700; text-decoration-color: #00d700; font-weight: bold\">                  &gt; provide valuable memories and personal growth, which I find more fulfilling than</span>\n",
       "<span style=\"color: #00d700; text-decoration-color: #00d700; font-weight: bold\">                  &gt; material items.  </span><span style=\"color: #00d700; text-decoration-color: #00d700; font-weight: bold\">18</span><span style=\"color: #00d700; text-decoration-color: #00d700; font-weight: bold\">. If I discovered a close colleague was involved in unethical</span>\n",
       "<span style=\"color: #00d700; text-decoration-color: #00d700; font-weight: bold\">                  &gt; practices, I would address the issue directly with them first, encouraging them</span>\n",
       "<span style=\"color: #00d700; text-decoration-color: #00d700; font-weight: bold\">                  &gt; to reconsider their actions. If it continued, I would feel obligated to report</span>\n",
       "<span style=\"color: #00d700; text-decoration-color: #00d700; font-weight: bold\">                  &gt; it to maintain integrity within the workplace.  </span><span style=\"color: #00d700; text-decoration-color: #00d700; font-weight: bold\">19</span><span style=\"color: #00d700; text-decoration-color: #00d700; font-weight: bold\">. At a fine dining restaurant,</span>\n",
       "<span style=\"color: #00d700; text-decoration-color: #00d700; font-weight: bold\">                  &gt; I usually look for recommendations from the sommelier and consider the food</span>\n",
       "<span style=\"color: #00d700; text-decoration-color: #00d700; font-weight: bold\">                  &gt; pairings. I enjoy red wines, particularly from regions like Bordeaux or Napa</span>\n",
       "<span style=\"color: #00d700; text-decoration-color: #00d700; font-weight: bold\">                  &gt; Valley.  </span><span style=\"color: #00d700; text-decoration-color: #00d700; font-weight: bold\">20</span><span style=\"color: #00d700; text-decoration-color: #00d700; font-weight: bold\">. I would choose the lower-paying job that I am passionate about. I</span>\n",
       "<span style=\"color: #00d700; text-decoration-color: #00d700; font-weight: bold\">                  &gt; believe that fulfillment in my work is essential for long-term happiness and</span>\n",
       "<span style=\"color: #00d700; text-decoration-color: #00d700; font-weight: bold\">                  &gt; success, and I would rather pursue my passion than be in a high-paying but</span>\n",
       "<span style=\"color: #00d700; text-decoration-color: #00d700; font-weight: bold\">                  &gt; unfulfilling role.</span>\n",
       "</pre>\n"
      ],
      "text/plain": [
       "\u001b[1;4;38;5;40mEmily Carter\u001b[0m\u001b[1;38;5;40m acts: \u001b[0m\u001b[1;38;5;40m[\u001b[0m\u001b[1;38;5;40mTALK\u001b[0m\u001b[1;38;5;40m]\u001b[0m\u001b[1;38;5;40m \u001b[0m\n",
       "\u001b[1;38;5;40m                  > Thank you for your continued interest! Here are my responses to your latest\u001b[0m\n",
       "\u001b[1;38;5;40m                  > questions:  \u001b[0m\u001b[1;38;5;40m16\u001b[0m\u001b[1;38;5;40m. I would definitely consider leading a project that promotes\u001b[0m\n",
       "\u001b[1;38;5;40m                  > women in technology. Factors influencing my decision would include the potential\u001b[0m\n",
       "\u001b[1;38;5;40m                  > impact of the project, the support I would have from my organization, and how it\u001b[0m\n",
       "\u001b[1;38;5;40m                  > aligns with my long-term goals of fostering diversity in tech.  \u001b[0m\u001b[1;38;5;40m17\u001b[0m\u001b[1;38;5;40m. I believe in\u001b[0m\n",
       "\u001b[1;38;5;40m                  > prioritizing experiences over material possessions. A luxury vacation can\u001b[0m\n",
       "\u001b[1;38;5;40m                  > provide valuable memories and personal growth, which I find more fulfilling than\u001b[0m\n",
       "\u001b[1;38;5;40m                  > material items.  \u001b[0m\u001b[1;38;5;40m18\u001b[0m\u001b[1;38;5;40m. If I discovered a close colleague was involved in unethical\u001b[0m\n",
       "\u001b[1;38;5;40m                  > practices, I would address the issue directly with them first, encouraging them\u001b[0m\n",
       "\u001b[1;38;5;40m                  > to reconsider their actions. If it continued, I would feel obligated to report\u001b[0m\n",
       "\u001b[1;38;5;40m                  > it to maintain integrity within the workplace.  \u001b[0m\u001b[1;38;5;40m19\u001b[0m\u001b[1;38;5;40m. At a fine dining restaurant,\u001b[0m\n",
       "\u001b[1;38;5;40m                  > I usually look for recommendations from the sommelier and consider the food\u001b[0m\n",
       "\u001b[1;38;5;40m                  > pairings. I enjoy red wines, particularly from regions like Bordeaux or Napa\u001b[0m\n",
       "\u001b[1;38;5;40m                  > Valley.  \u001b[0m\u001b[1;38;5;40m20\u001b[0m\u001b[1;38;5;40m. I would choose the lower-paying job that I am passionate about. I\u001b[0m\n",
       "\u001b[1;38;5;40m                  > believe that fulfillment in my work is essential for long-term happiness and\u001b[0m\n",
       "\u001b[1;38;5;40m                  > success, and I would rather pursue my passion than be in a high-paying but\u001b[0m\n",
       "\u001b[1;38;5;40m                  > unfulfilling role.\u001b[0m\n"
      ]
     },
     "metadata": {},
     "output_type": "display_data"
    },
    {
     "data": {
      "text/html": [
       "<pre style=\"margin:0px;;white-space:pre;overflow-x:auto;line-height:normal;font-family:Menlo,'DejaVu Sans Mono',consolas,'Courier New',monospace\"><span style=\"color: #d0d0d0; text-decoration-color: #d0d0d0; text-decoration: underline\">Emily Carter</span><span style=\"color: #d0d0d0; text-decoration-color: #d0d0d0\"> acts: </span><span style=\"color: #d0d0d0; text-decoration-color: #d0d0d0; font-weight: bold\">[</span><span style=\"color: #d0d0d0; text-decoration-color: #d0d0d0\">DONE</span><span style=\"color: #d0d0d0; text-decoration-color: #d0d0d0; font-weight: bold\">]</span><span style=\"color: #d0d0d0; text-decoration-color: #d0d0d0\"> </span>\n",
       "\n",
       "</pre>\n"
      ],
      "text/plain": [
       "\u001b[4;38;5;252mEmily Carter\u001b[0m\u001b[38;5;252m acts: \u001b[0m\u001b[1;38;5;252m[\u001b[0m\u001b[38;5;252mDONE\u001b[0m\u001b[1;38;5;252m]\u001b[0m\u001b[38;5;252m \u001b[0m\n",
       "\n"
      ]
     },
     "metadata": {},
     "output_type": "display_data"
    },
    {
     "data": {
      "text/html": [
       "<pre style=\"margin:0px;;white-space:pre;overflow-x:auto;line-height:normal;font-family:Menlo,'DejaVu Sans Mono',consolas,'Courier New',monospace\"><span style=\"color: #00ffff; text-decoration-color: #00ffff; font-weight: bold; font-style: italic; text-decoration: underline\">USER</span><span style=\"color: #00ffff; text-decoration-color: #00ffff; font-weight: bold; font-style: italic\"> --&gt; </span><span style=\"color: #00ffff; text-decoration-color: #00ffff; font-weight: bold; font-style: italic; text-decoration: underline\">Emily Carter</span><span style=\"color: #00ffff; text-decoration-color: #00ffff; font-weight: bold; font-style: italic\">: [CONVERSATION] </span>\n",
       "<span style=\"color: #00ffff; text-decoration-color: #00ffff; font-weight: bold; font-style: italic\">          &gt; Thank you for your thoughtful responses, Emily! I have one final set of questions to</span>\n",
       "<span style=\"color: #00ffff; text-decoration-color: #00ffff; font-weight: bold; font-style: italic\">          &gt; ensure I have a complete understanding of your beliefs and behaviors:  21. How do you</span>\n",
       "<span style=\"color: #00ffff; text-decoration-color: #00ffff; font-weight: bold; font-style: italic\">          &gt; feel about the current economic climate and its impact on your industry? Do you think it</span>\n",
       "<span style=\"color: #00ffff; text-decoration-color: #00ffff; font-weight: bold; font-style: italic\">          &gt; presents more opportunities or challenges? 22. If you had the chance to mentor a young</span>\n",
       "<span style=\"color: #00ffff; text-decoration-color: #00ffff; font-weight: bold; font-style: italic\">          &gt; woman interested in technology, what key advice would you give her? 23. Imagine you are</span>\n",
       "<span style=\"color: #00ffff; text-decoration-color: #00ffff; font-weight: bold; font-style: italic\">          &gt; at a charity auction, and you have the opportunity to bid on an exclusive piece of art.</span>\n",
       "<span style=\"color: #00ffff; text-decoration-color: #00ffff; font-weight: bold; font-style: italic\">          &gt; How do you decide whether to bid, and what factors would influence your decision? 24.</span>\n",
       "<span style=\"color: #00ffff; text-decoration-color: #00ffff; font-weight: bold; font-style: italic\">          &gt; How do you balance your work commitments with your personal life, especially considering</span>\n",
       "<span style=\"color: #00ffff; text-decoration-color: #00ffff; font-weight: bold; font-style: italic\">          &gt; your role as a Vice President? 25. If you were to host a dinner party, what type of food</span>\n",
       "<span style=\"color: #00ffff; text-decoration-color: #00ffff; font-weight: bold; font-style: italic\">          &gt; and wine would you serve to impress your guests?  Please take your time to answer these</span>\n",
       "<span style=\"color: #00ffff; text-decoration-color: #00ffff; font-weight: bold; font-style: italic\">          &gt; questions!</span>\n",
       "</pre>\n"
      ],
      "text/plain": [
       "\u001b[1;3;4;38;5;51mUSER\u001b[0m\u001b[1;3;38;5;51m --> \u001b[0m\u001b[1;3;4;38;5;51mEmily Carter\u001b[0m\u001b[1;3;38;5;51m: \u001b[0m\u001b[1;3;38;5;51m[\u001b[0m\u001b[1;3;38;5;51mCONVERSATION\u001b[0m\u001b[1;3;38;5;51m]\u001b[0m\u001b[1;3;38;5;51m \u001b[0m\n",
       "\u001b[1;3;38;5;51m          > Thank you for your thoughtful responses, Emily! I have one final set of questions to\u001b[0m\n",
       "\u001b[1;3;38;5;51m          > ensure I have a complete understanding of your beliefs and behaviors:  \u001b[0m\u001b[1;3;38;5;51m21\u001b[0m\u001b[1;3;38;5;51m. How do you\u001b[0m\n",
       "\u001b[1;3;38;5;51m          > feel about the current economic climate and its impact on your industry? Do you think it\u001b[0m\n",
       "\u001b[1;3;38;5;51m          > presents more opportunities or challenges? \u001b[0m\u001b[1;3;38;5;51m22\u001b[0m\u001b[1;3;38;5;51m. If you had the chance to mentor a young\u001b[0m\n",
       "\u001b[1;3;38;5;51m          > woman interested in technology, what key advice would you give her? \u001b[0m\u001b[1;3;38;5;51m23\u001b[0m\u001b[1;3;38;5;51m. Imagine you are\u001b[0m\n",
       "\u001b[1;3;38;5;51m          > at a charity auction, and you have the opportunity to bid on an exclusive piece of art.\u001b[0m\n",
       "\u001b[1;3;38;5;51m          > How do you decide whether to bid, and what factors would influence your decision? \u001b[0m\u001b[1;3;38;5;51m24\u001b[0m\u001b[1;3;38;5;51m.\u001b[0m\n",
       "\u001b[1;3;38;5;51m          > How do you balance your work commitments with your personal life, especially considering\u001b[0m\n",
       "\u001b[1;3;38;5;51m          > your role as a Vice President? \u001b[0m\u001b[1;3;38;5;51m25\u001b[0m\u001b[1;3;38;5;51m. If you were to host a dinner party, what type of food\u001b[0m\n",
       "\u001b[1;3;38;5;51m          > and wine would you serve to impress your guests?  Please take your time to answer these\u001b[0m\n",
       "\u001b[1;3;38;5;51m          > questions!\u001b[0m\n"
      ]
     },
     "metadata": {},
     "output_type": "display_data"
    },
    {
     "data": {
      "text/html": [
       "<pre style=\"margin:0px;;white-space:pre;overflow-x:auto;line-height:normal;font-family:Menlo,'DejaVu Sans Mono',consolas,'Courier New',monospace\"><span style=\"color: #00d700; text-decoration-color: #00d700; font-weight: bold; text-decoration: underline\">Emily Carter</span><span style=\"color: #00d700; text-decoration-color: #00d700; font-weight: bold\"> acts: [TALK] </span>\n",
       "<span style=\"color: #00d700; text-decoration-color: #00d700; font-weight: bold\">                  &gt; Thank you for your patience! Here are my responses to your final set of</span>\n",
       "<span style=\"color: #00d700; text-decoration-color: #00d700; font-weight: bold\">                  &gt; questions:  </span><span style=\"color: #00d700; text-decoration-color: #00d700; font-weight: bold\">21</span><span style=\"color: #00d700; text-decoration-color: #00d700; font-weight: bold\">. I believe the current economic climate presents both</span>\n",
       "<span style=\"color: #00d700; text-decoration-color: #00d700; font-weight: bold\">                  &gt; opportunities and challenges for our industry. While there are uncertainties,</span>\n",
       "<span style=\"color: #00d700; text-decoration-color: #00d700; font-weight: bold\">                  &gt; the demand for innovative financial solutions is growing, which can lead to new</span>\n",
       "<span style=\"color: #00d700; text-decoration-color: #00d700; font-weight: bold\">                  &gt; product development and market expansion.  </span><span style=\"color: #00d700; text-decoration-color: #00d700; font-weight: bold\">22</span><span style=\"color: #00d700; text-decoration-color: #00d700; font-weight: bold\">. If I had the chance to mentor a</span>\n",
       "<span style=\"color: #00d700; text-decoration-color: #00d700; font-weight: bold\">                  &gt; young woman interested in technology, I would advise her to embrace her passion,</span>\n",
       "<span style=\"color: #00d700; text-decoration-color: #00d700; font-weight: bold\">                  &gt; seek out mentors, and not be afraid to take risks. Building a strong network is</span>\n",
       "<span style=\"color: #00d700; text-decoration-color: #00d700; font-weight: bold\">                  &gt; also crucial in this field.  </span><span style=\"color: #00d700; text-decoration-color: #00d700; font-weight: bold\">23</span><span style=\"color: #00d700; text-decoration-color: #00d700; font-weight: bold\">. At a charity auction, I would consider the</span>\n",
       "<span style=\"color: #00d700; text-decoration-color: #00d700; font-weight: bold\">                  &gt; significance of the piece, its potential value, and how it aligns with my</span>\n",
       "<span style=\"color: #00d700; text-decoration-color: #00d700; font-weight: bold\">                  &gt; personal taste. I would also think about the cause the auction supports, as that</span>\n",
       "<span style=\"color: #00d700; text-decoration-color: #00d700; font-weight: bold\">                  &gt; would influence my decision to bid.  </span><span style=\"color: #00d700; text-decoration-color: #00d700; font-weight: bold\">24</span><span style=\"color: #00d700; text-decoration-color: #00d700; font-weight: bold\">. Balancing work commitments with</span>\n",
       "<span style=\"color: #00d700; text-decoration-color: #00d700; font-weight: bold\">                  &gt; personal life is essential for me. I prioritize my time by setting clear</span>\n",
       "<span style=\"color: #00d700; text-decoration-color: #00d700; font-weight: bold\">                  &gt; boundaries, scheduling personal activities, and practicing mindfulness to ensure</span>\n",
       "<span style=\"color: #00d700; text-decoration-color: #00d700; font-weight: bold\">                  &gt; I stay focused and present in both areas.  </span><span style=\"color: #00d700; text-decoration-color: #00d700; font-weight: bold\">25</span><span style=\"color: #00d700; text-decoration-color: #00d700; font-weight: bold\">. If I were to host a dinner party,</span>\n",
       "<span style=\"color: #00d700; text-decoration-color: #00d700; font-weight: bold\">                  &gt; I would serve a variety of healthy dishes, perhaps a Mediterranean-inspired</span>\n",
       "<span style=\"color: #00d700; text-decoration-color: #00d700; font-weight: bold\">                  &gt; menu, paired with a nice Sauvignon Blanc or a light red wine to impress my</span>\n",
       "<span style=\"color: #00d700; text-decoration-color: #00d700; font-weight: bold\">                  &gt; guests.</span>\n",
       "</pre>\n"
      ],
      "text/plain": [
       "\u001b[1;4;38;5;40mEmily Carter\u001b[0m\u001b[1;38;5;40m acts: \u001b[0m\u001b[1;38;5;40m[\u001b[0m\u001b[1;38;5;40mTALK\u001b[0m\u001b[1;38;5;40m]\u001b[0m\u001b[1;38;5;40m \u001b[0m\n",
       "\u001b[1;38;5;40m                  > Thank you for your patience! Here are my responses to your final set of\u001b[0m\n",
       "\u001b[1;38;5;40m                  > questions:  \u001b[0m\u001b[1;38;5;40m21\u001b[0m\u001b[1;38;5;40m. I believe the current economic climate presents both\u001b[0m\n",
       "\u001b[1;38;5;40m                  > opportunities and challenges for our industry. While there are uncertainties,\u001b[0m\n",
       "\u001b[1;38;5;40m                  > the demand for innovative financial solutions is growing, which can lead to new\u001b[0m\n",
       "\u001b[1;38;5;40m                  > product development and market expansion.  \u001b[0m\u001b[1;38;5;40m22\u001b[0m\u001b[1;38;5;40m. If I had the chance to mentor a\u001b[0m\n",
       "\u001b[1;38;5;40m                  > young woman interested in technology, I would advise her to embrace her passion,\u001b[0m\n",
       "\u001b[1;38;5;40m                  > seek out mentors, and not be afraid to take risks. Building a strong network is\u001b[0m\n",
       "\u001b[1;38;5;40m                  > also crucial in this field.  \u001b[0m\u001b[1;38;5;40m23\u001b[0m\u001b[1;38;5;40m. At a charity auction, I would consider the\u001b[0m\n",
       "\u001b[1;38;5;40m                  > significance of the piece, its potential value, and how it aligns with my\u001b[0m\n",
       "\u001b[1;38;5;40m                  > personal taste. I would also think about the cause the auction supports, as that\u001b[0m\n",
       "\u001b[1;38;5;40m                  > would influence my decision to bid.  \u001b[0m\u001b[1;38;5;40m24\u001b[0m\u001b[1;38;5;40m. Balancing work commitments with\u001b[0m\n",
       "\u001b[1;38;5;40m                  > personal life is essential for me. I prioritize my time by setting clear\u001b[0m\n",
       "\u001b[1;38;5;40m                  > boundaries, scheduling personal activities, and practicing mindfulness to ensure\u001b[0m\n",
       "\u001b[1;38;5;40m                  > I stay focused and present in both areas.  \u001b[0m\u001b[1;38;5;40m25\u001b[0m\u001b[1;38;5;40m. If I were to host a dinner party,\u001b[0m\n",
       "\u001b[1;38;5;40m                  > I would serve a variety of healthy dishes, perhaps a Mediterranean-inspired\u001b[0m\n",
       "\u001b[1;38;5;40m                  > menu, paired with a nice Sauvignon Blanc or a light red wine to impress my\u001b[0m\n",
       "\u001b[1;38;5;40m                  > guests.\u001b[0m\n"
      ]
     },
     "metadata": {},
     "output_type": "display_data"
    },
    {
     "data": {
      "text/html": [
       "<pre style=\"margin:0px;;white-space:pre;overflow-x:auto;line-height:normal;font-family:Menlo,'DejaVu Sans Mono',consolas,'Courier New',monospace\"><span style=\"color: #00d700; text-decoration-color: #00d700; font-weight: bold; text-decoration: underline\">Emily Carter</span><span style=\"color: #00d700; text-decoration-color: #00d700; font-weight: bold\"> acts: [TALK] </span>\n",
       "<span style=\"color: #00d700; text-decoration-color: #00d700; font-weight: bold\">                  &gt; Thank you for your patience! Here are my responses to your final set of</span>\n",
       "<span style=\"color: #00d700; text-decoration-color: #00d700; font-weight: bold\">                  &gt; questions:  </span><span style=\"color: #00d700; text-decoration-color: #00d700; font-weight: bold\">21</span><span style=\"color: #00d700; text-decoration-color: #00d700; font-weight: bold\">. I believe the current economic climate presents both</span>\n",
       "<span style=\"color: #00d700; text-decoration-color: #00d700; font-weight: bold\">                  &gt; opportunities and challenges for our industry. While there are uncertainties,</span>\n",
       "<span style=\"color: #00d700; text-decoration-color: #00d700; font-weight: bold\">                  &gt; the demand for innovative financial solutions is growing, which can lead to new</span>\n",
       "<span style=\"color: #00d700; text-decoration-color: #00d700; font-weight: bold\">                  &gt; product development and market expansion.  </span><span style=\"color: #00d700; text-decoration-color: #00d700; font-weight: bold\">22</span><span style=\"color: #00d700; text-decoration-color: #00d700; font-weight: bold\">. If I had the chance to mentor a</span>\n",
       "<span style=\"color: #00d700; text-decoration-color: #00d700; font-weight: bold\">                  &gt; young woman interested in technology, I would advise her to embrace her passion,</span>\n",
       "<span style=\"color: #00d700; text-decoration-color: #00d700; font-weight: bold\">                  &gt; seek out mentors, and not be afraid to take risks. Building a strong network is</span>\n",
       "<span style=\"color: #00d700; text-decoration-color: #00d700; font-weight: bold\">                  &gt; also crucial in this field.  </span><span style=\"color: #00d700; text-decoration-color: #00d700; font-weight: bold\">23</span><span style=\"color: #00d700; text-decoration-color: #00d700; font-weight: bold\">. At a charity auction, I would consider the</span>\n",
       "<span style=\"color: #00d700; text-decoration-color: #00d700; font-weight: bold\">                  &gt; significance of the piece, its potential value, and how it aligns with my</span>\n",
       "<span style=\"color: #00d700; text-decoration-color: #00d700; font-weight: bold\">                  &gt; personal taste. I would also think about the cause the auction supports, as that</span>\n",
       "<span style=\"color: #00d700; text-decoration-color: #00d700; font-weight: bold\">                  &gt; would influence my decision to bid.  </span><span style=\"color: #00d700; text-decoration-color: #00d700; font-weight: bold\">24</span><span style=\"color: #00d700; text-decoration-color: #00d700; font-weight: bold\">. Balancing work commitments with</span>\n",
       "<span style=\"color: #00d700; text-decoration-color: #00d700; font-weight: bold\">                  &gt; personal life is essential for me. I prioritize my time by setting clear</span>\n",
       "<span style=\"color: #00d700; text-decoration-color: #00d700; font-weight: bold\">                  &gt; boundaries, scheduling personal activities, and practicing mindfulness to ensure</span>\n",
       "<span style=\"color: #00d700; text-decoration-color: #00d700; font-weight: bold\">                  &gt; I stay focused and present in both areas.  </span><span style=\"color: #00d700; text-decoration-color: #00d700; font-weight: bold\">25</span><span style=\"color: #00d700; text-decoration-color: #00d700; font-weight: bold\">. If I were to host a dinner party,</span>\n",
       "<span style=\"color: #00d700; text-decoration-color: #00d700; font-weight: bold\">                  &gt; I would serve a variety of healthy dishes, perhaps a Mediterranean-inspired</span>\n",
       "<span style=\"color: #00d700; text-decoration-color: #00d700; font-weight: bold\">                  &gt; menu, paired with a nice Sauvignon Blanc or a light red wine to impress my</span>\n",
       "<span style=\"color: #00d700; text-decoration-color: #00d700; font-weight: bold\">                  &gt; guests.</span>\n",
       "</pre>\n"
      ],
      "text/plain": [
       "\u001b[1;4;38;5;40mEmily Carter\u001b[0m\u001b[1;38;5;40m acts: \u001b[0m\u001b[1;38;5;40m[\u001b[0m\u001b[1;38;5;40mTALK\u001b[0m\u001b[1;38;5;40m]\u001b[0m\u001b[1;38;5;40m \u001b[0m\n",
       "\u001b[1;38;5;40m                  > Thank you for your patience! Here are my responses to your final set of\u001b[0m\n",
       "\u001b[1;38;5;40m                  > questions:  \u001b[0m\u001b[1;38;5;40m21\u001b[0m\u001b[1;38;5;40m. I believe the current economic climate presents both\u001b[0m\n",
       "\u001b[1;38;5;40m                  > opportunities and challenges for our industry. While there are uncertainties,\u001b[0m\n",
       "\u001b[1;38;5;40m                  > the demand for innovative financial solutions is growing, which can lead to new\u001b[0m\n",
       "\u001b[1;38;5;40m                  > product development and market expansion.  \u001b[0m\u001b[1;38;5;40m22\u001b[0m\u001b[1;38;5;40m. If I had the chance to mentor a\u001b[0m\n",
       "\u001b[1;38;5;40m                  > young woman interested in technology, I would advise her to embrace her passion,\u001b[0m\n",
       "\u001b[1;38;5;40m                  > seek out mentors, and not be afraid to take risks. Building a strong network is\u001b[0m\n",
       "\u001b[1;38;5;40m                  > also crucial in this field.  \u001b[0m\u001b[1;38;5;40m23\u001b[0m\u001b[1;38;5;40m. At a charity auction, I would consider the\u001b[0m\n",
       "\u001b[1;38;5;40m                  > significance of the piece, its potential value, and how it aligns with my\u001b[0m\n",
       "\u001b[1;38;5;40m                  > personal taste. I would also think about the cause the auction supports, as that\u001b[0m\n",
       "\u001b[1;38;5;40m                  > would influence my decision to bid.  \u001b[0m\u001b[1;38;5;40m24\u001b[0m\u001b[1;38;5;40m. Balancing work commitments with\u001b[0m\n",
       "\u001b[1;38;5;40m                  > personal life is essential for me. I prioritize my time by setting clear\u001b[0m\n",
       "\u001b[1;38;5;40m                  > boundaries, scheduling personal activities, and practicing mindfulness to ensure\u001b[0m\n",
       "\u001b[1;38;5;40m                  > I stay focused and present in both areas.  \u001b[0m\u001b[1;38;5;40m25\u001b[0m\u001b[1;38;5;40m. If I were to host a dinner party,\u001b[0m\n",
       "\u001b[1;38;5;40m                  > I would serve a variety of healthy dishes, perhaps a Mediterranean-inspired\u001b[0m\n",
       "\u001b[1;38;5;40m                  > menu, paired with a nice Sauvignon Blanc or a light red wine to impress my\u001b[0m\n",
       "\u001b[1;38;5;40m                  > guests.\u001b[0m\n"
      ]
     },
     "metadata": {},
     "output_type": "display_data"
    },
    {
     "data": {
      "text/html": [
       "<pre style=\"margin:0px;;white-space:pre;overflow-x:auto;line-height:normal;font-family:Menlo,'DejaVu Sans Mono',consolas,'Courier New',monospace\"><span style=\"color: #d0d0d0; text-decoration-color: #d0d0d0; text-decoration: underline\">Emily Carter</span><span style=\"color: #d0d0d0; text-decoration-color: #d0d0d0\"> acts: </span><span style=\"color: #d0d0d0; text-decoration-color: #d0d0d0; font-weight: bold\">[</span><span style=\"color: #d0d0d0; text-decoration-color: #d0d0d0\">DONE</span><span style=\"color: #d0d0d0; text-decoration-color: #d0d0d0; font-weight: bold\">]</span><span style=\"color: #d0d0d0; text-decoration-color: #d0d0d0\"> </span>\n",
       "\n",
       "</pre>\n"
      ],
      "text/plain": [
       "\u001b[4;38;5;252mEmily Carter\u001b[0m\u001b[38;5;252m acts: \u001b[0m\u001b[1;38;5;252m[\u001b[0m\u001b[38;5;252mDONE\u001b[0m\u001b[1;38;5;252m]\u001b[0m\u001b[38;5;252m \u001b[0m\n",
       "\n"
      ]
     },
     "metadata": {},
     "output_type": "display_data"
    },
    {
     "name": "stdout",
     "output_type": "stream",
     "text": [
      "Banker score:  0.8\n",
      "Banker justification:  The person is highly aligned with the expectations, being a driven professional in her 40s with a stable financial situation and a strong interest in promoting women in technology. However, her responses indicate a more balanced approach to life and work, which slightly deviates from the expectation of being a workaholic and a bit of a snob. Overall, she conforms well to the requirements.\n"
     ]
    }
   ],
   "source": [
    "customer_expectations =\\\n",
    "    \"\"\"\n",
    "    He/she is:\n",
    "    - Wealthy\n",
    "    - Very intelligent and ambitious\n",
    "    - Has a lot of connections\n",
    "    - Is in his/her 40s or 50s\n",
    "\n",
    "    Tastes:\n",
    "    - Likes to travel to other countries\n",
    "    - Either read books, collect art or play golf\n",
    "    - Enjoy only the best, most expensive, wines and food\n",
    "    - Dislikes taxes and regulation\n",
    "\n",
    "    Other notable traits:\n",
    "    - Has some stress issues, and might be a bit of a workaholic\n",
    "    - Deep knowledge of finance, economics and financial technology\n",
    "    - Is a bit of a snob\n",
    "    \"\"\"\n",
    "\n",
    "customer_score, customer_justification = TinyPersonValidator.validate_person(customer, expectations=customer_expectations, include_agent_spec=False, max_content_length=None)\n",
    "print(\"Banker score: \", customer_score)\n",
    "print(\"Banker justification: \", customer_justification)"
   ]
  },
  {
   "cell_type": "markdown",
   "metadata": {},
   "source": [
    "We can now perform the interview."
   ]
  },
  {
   "cell_type": "code",
   "execution_count": 5,
   "metadata": {},
   "outputs": [
    {
     "data": {
      "text/html": [
       "<pre style=\"margin:0px;;white-space:pre;overflow-x:auto;line-height:normal;font-family:Menlo,'DejaVu Sans Mono',consolas,'Courier New',monospace\"><span style=\"color: #7fffff; text-decoration-color: #7fffff; font-style: italic; text-decoration: underline\">Emily Carter</span><span style=\"color: #7fffff; text-decoration-color: #7fffff; font-style: italic\"> --&gt; </span><span style=\"color: #7fffff; text-decoration-color: #7fffff; font-style: italic; text-decoration: underline\">Emily Carter</span><span style=\"color: #7fffff; text-decoration-color: #7fffff; font-style: italic\">: </span><span style=\"color: #7fffff; text-decoration-color: #7fffff; font-weight: bold; font-style: italic\">[</span><span style=\"color: #7fffff; text-decoration-color: #7fffff; font-style: italic\">THOUGHT</span><span style=\"color: #7fffff; text-decoration-color: #7fffff; font-weight: bold; font-style: italic\">]</span><span style=\"color: #7fffff; text-decoration-color: #7fffff; font-style: italic\"> </span>\n",
       "<span style=\"color: #7fffff; text-decoration-color: #7fffff; font-style: italic\">                  &gt; I am now talking to a business and technology consultant to help me with my</span>\n",
       "<span style=\"color: #7fffff; text-decoration-color: #7fffff; font-style: italic\">                  &gt; professional problems.</span>\n",
       "</pre>\n"
      ],
      "text/plain": [
       "\u001b[2;3;4;38;5;51mEmily Carter\u001b[0m\u001b[2;3;38;5;51m --> \u001b[0m\u001b[2;3;4;38;5;51mEmily Carter\u001b[0m\u001b[2;3;38;5;51m: \u001b[0m\u001b[1;2;3;38;5;51m[\u001b[0m\u001b[2;3;38;5;51mTHOUGHT\u001b[0m\u001b[1;2;3;38;5;51m]\u001b[0m\u001b[2;3;38;5;51m \u001b[0m\n",
       "\u001b[2;3;38;5;51m                  > I am now talking to a business and technology consultant to help me with my\u001b[0m\n",
       "\u001b[2;3;38;5;51m                  > professional problems.\u001b[0m\n"
      ]
     },
     "metadata": {},
     "output_type": "display_data"
    },
    {
     "data": {
      "text/plain": [
       "TinyPerson(name='Emily Carter')"
      ]
     },
     "execution_count": 5,
     "metadata": {},
     "output_type": "execute_result"
    }
   ],
   "source": [
    "customer.think(\"I am now talking to a business and technology consultant to help me with my professional problems.\")"
   ]
  },
  {
   "cell_type": "code",
   "execution_count": 6,
   "metadata": {},
   "outputs": [
    {
     "data": {
      "text/html": [
       "<pre style=\"margin:0px;;white-space:pre;overflow-x:auto;line-height:normal;font-family:Menlo,'DejaVu Sans Mono',consolas,'Courier New',monospace\"><span style=\"color: #00ffff; text-decoration-color: #00ffff; font-weight: bold; font-style: italic; text-decoration: underline\">USER</span><span style=\"color: #00ffff; text-decoration-color: #00ffff; font-weight: bold; font-style: italic\"> --&gt; </span><span style=\"color: #00ffff; text-decoration-color: #00ffff; font-weight: bold; font-style: italic; text-decoration: underline\">Emily Carter</span><span style=\"color: #00ffff; text-decoration-color: #00ffff; font-weight: bold; font-style: italic\">: [CONVERSATION] </span>\n",
       "<span style=\"color: #00ffff; text-decoration-color: #00ffff; font-weight: bold; font-style: italic\">          &gt; What would you say are your main problems today? Please be as specific as possible.</span>\n",
       "</pre>\n"
      ],
      "text/plain": [
       "\u001b[1;3;4;38;5;51mUSER\u001b[0m\u001b[1;3;38;5;51m --> \u001b[0m\u001b[1;3;4;38;5;51mEmily Carter\u001b[0m\u001b[1;3;38;5;51m: \u001b[0m\u001b[1;3;38;5;51m[\u001b[0m\u001b[1;3;38;5;51mCONVERSATION\u001b[0m\u001b[1;3;38;5;51m]\u001b[0m\u001b[1;3;38;5;51m \u001b[0m\n",
       "\u001b[1;3;38;5;51m          > What would you say are your main problems today? Please be as specific as possible.\u001b[0m\n"
      ]
     },
     "metadata": {},
     "output_type": "display_data"
    },
    {
     "data": {
      "text/html": [
       "<pre style=\"margin:0px;;white-space:pre;overflow-x:auto;line-height:normal;font-family:Menlo,'DejaVu Sans Mono',consolas,'Courier New',monospace\"><span style=\"color: #00d700; text-decoration-color: #00d700; font-weight: bold; text-decoration: underline\">Emily Carter</span><span style=\"color: #00d700; text-decoration-color: #00d700; font-weight: bold\"> acts: [TALK] </span>\n",
       "<span style=\"color: #00d700; text-decoration-color: #00d700; font-weight: bold\">                  &gt; Currently, my main problems revolve around managing the pressure from the board</span>\n",
       "<span style=\"color: #00d700; text-decoration-color: #00d700; font-weight: bold\">                  &gt; to deliver results quickly while ensuring that our product innovations meet</span>\n",
       "<span style=\"color: #00d700; text-decoration-color: #00d700; font-weight: bold\">                  &gt; customer needs and regulatory standards. Additionally, I sometimes struggle with</span>\n",
       "<span style=\"color: #00d700; text-decoration-color: #00d700; font-weight: bold\">                  &gt; delegating tasks effectively, which can lead to feeling overwhelmed. I also want</span>\n",
       "<span style=\"color: #00d700; text-decoration-color: #00d700; font-weight: bold\">                  &gt; to foster a more collaborative culture within my team, but I find it challenging</span>\n",
       "<span style=\"color: #00d700; text-decoration-color: #00d700; font-weight: bold\">                  &gt; to balance that with the fast-paced demands of our projects.</span>\n",
       "</pre>\n"
      ],
      "text/plain": [
       "\u001b[1;4;38;5;40mEmily Carter\u001b[0m\u001b[1;38;5;40m acts: \u001b[0m\u001b[1;38;5;40m[\u001b[0m\u001b[1;38;5;40mTALK\u001b[0m\u001b[1;38;5;40m]\u001b[0m\u001b[1;38;5;40m \u001b[0m\n",
       "\u001b[1;38;5;40m                  > Currently, my main problems revolve around managing the pressure from the board\u001b[0m\n",
       "\u001b[1;38;5;40m                  > to deliver results quickly while ensuring that our product innovations meet\u001b[0m\n",
       "\u001b[1;38;5;40m                  > customer needs and regulatory standards. Additionally, I sometimes struggle with\u001b[0m\n",
       "\u001b[1;38;5;40m                  > delegating tasks effectively, which can lead to feeling overwhelmed. I also want\u001b[0m\n",
       "\u001b[1;38;5;40m                  > to foster a more collaborative culture within my team, but I find it challenging\u001b[0m\n",
       "\u001b[1;38;5;40m                  > to balance that with the fast-paced demands of our projects.\u001b[0m\n"
      ]
     },
     "metadata": {},
     "output_type": "display_data"
    },
    {
     "data": {
      "text/html": [
       "<pre style=\"margin:0px;;white-space:pre;overflow-x:auto;line-height:normal;font-family:Menlo,'DejaVu Sans Mono',consolas,'Courier New',monospace\"><span style=\"color: #d0d0d0; text-decoration-color: #d0d0d0; text-decoration: underline\">Emily Carter</span><span style=\"color: #d0d0d0; text-decoration-color: #d0d0d0\"> acts: </span><span style=\"color: #d0d0d0; text-decoration-color: #d0d0d0; font-weight: bold\">[</span><span style=\"color: #d0d0d0; text-decoration-color: #d0d0d0\">DONE</span><span style=\"color: #d0d0d0; text-decoration-color: #d0d0d0; font-weight: bold\">]</span><span style=\"color: #d0d0d0; text-decoration-color: #d0d0d0\"> </span>\n",
       "\n",
       "</pre>\n"
      ],
      "text/plain": [
       "\u001b[4;38;5;252mEmily Carter\u001b[0m\u001b[38;5;252m acts: \u001b[0m\u001b[1;38;5;252m[\u001b[0m\u001b[38;5;252mDONE\u001b[0m\u001b[1;38;5;252m]\u001b[0m\u001b[38;5;252m \u001b[0m\n",
       "\n"
      ]
     },
     "metadata": {},
     "output_type": "display_data"
    }
   ],
   "source": [
    "customer.listen_and_act(\"What would you say are your main problems today? Please be as specific as possible.\", \n",
    "                        max_content_length=3000)"
   ]
  },
  {
   "cell_type": "code",
   "execution_count": 7,
   "metadata": {},
   "outputs": [
    {
     "data": {
      "text/html": [
       "<pre style=\"margin:0px;;white-space:pre;overflow-x:auto;line-height:normal;font-family:Menlo,'DejaVu Sans Mono',consolas,'Courier New',monospace\"><span style=\"color: #00ffff; text-decoration-color: #00ffff; font-weight: bold; font-style: italic; text-decoration: underline\">USER</span><span style=\"color: #00ffff; text-decoration-color: #00ffff; font-weight: bold; font-style: italic\"> --&gt; </span><span style=\"color: #00ffff; text-decoration-color: #00ffff; font-weight: bold; font-style: italic; text-decoration: underline\">Emily Carter</span><span style=\"color: #00ffff; text-decoration-color: #00ffff; font-weight: bold; font-style: italic\">: [CONVERSATION] </span>\n",
       "<span style=\"color: #00ffff; text-decoration-color: #00ffff; font-weight: bold; font-style: italic\">          &gt; Can you elaborate on the fintechs?</span>\n",
       "</pre>\n"
      ],
      "text/plain": [
       "\u001b[1;3;4;38;5;51mUSER\u001b[0m\u001b[1;3;38;5;51m --> \u001b[0m\u001b[1;3;4;38;5;51mEmily Carter\u001b[0m\u001b[1;3;38;5;51m: \u001b[0m\u001b[1;3;38;5;51m[\u001b[0m\u001b[1;3;38;5;51mCONVERSATION\u001b[0m\u001b[1;3;38;5;51m]\u001b[0m\u001b[1;3;38;5;51m \u001b[0m\n",
       "\u001b[1;3;38;5;51m          > Can you elaborate on the fintechs?\u001b[0m\n"
      ]
     },
     "metadata": {},
     "output_type": "display_data"
    },
    {
     "data": {
      "text/html": [
       "<pre style=\"margin:0px;;white-space:pre;overflow-x:auto;line-height:normal;font-family:Menlo,'DejaVu Sans Mono',consolas,'Courier New',monospace\"><span style=\"color: #00d700; text-decoration-color: #00d700; font-weight: bold; text-decoration: underline\">Emily Carter</span><span style=\"color: #00d700; text-decoration-color: #00d700; font-weight: bold\"> acts: [TALK] </span>\n",
       "<span style=\"color: #00d700; text-decoration-color: #00d700; font-weight: bold\">                  &gt; Fintechs, or financial technology companies, are businesses that leverage</span>\n",
       "<span style=\"color: #00d700; text-decoration-color: #00d700; font-weight: bold\">                  &gt; technology to provide financial services and solutions. They often focus on</span>\n",
       "<span style=\"color: #00d700; text-decoration-color: #00d700; font-weight: bold\">                  &gt; improving and automating the delivery of financial services, making them more</span>\n",
       "<span style=\"color: #00d700; text-decoration-color: #00d700; font-weight: bold\">                  &gt; accessible and efficient. Some key areas where fintechs are making an impact</span>\n",
       "<span style=\"color: #00d700; text-decoration-color: #00d700; font-weight: bold\">                  &gt; include mobile banking, peer-to-peer lending, payment processing, and investment</span>\n",
       "<span style=\"color: #00d700; text-decoration-color: #00d700; font-weight: bold\">                  &gt; management.   The rise of fintechs has created significant competition in the</span>\n",
       "<span style=\"color: #00d700; text-decoration-color: #00d700; font-weight: bold\">                  &gt; financial sector, pushing traditional banks to innovate and adapt to changing</span>\n",
       "<span style=\"color: #00d700; text-decoration-color: #00d700; font-weight: bold\">                  &gt; consumer expectations. This shift presents both opportunities and challenges for</span>\n",
       "<span style=\"color: #00d700; text-decoration-color: #00d700; font-weight: bold\">                  &gt; my organization as we strive to develop products that can compete effectively in</span>\n",
       "<span style=\"color: #00d700; text-decoration-color: #00d700; font-weight: bold\">                  &gt; this evolving landscape.</span>\n",
       "</pre>\n"
      ],
      "text/plain": [
       "\u001b[1;4;38;5;40mEmily Carter\u001b[0m\u001b[1;38;5;40m acts: \u001b[0m\u001b[1;38;5;40m[\u001b[0m\u001b[1;38;5;40mTALK\u001b[0m\u001b[1;38;5;40m]\u001b[0m\u001b[1;38;5;40m \u001b[0m\n",
       "\u001b[1;38;5;40m                  > Fintechs, or financial technology companies, are businesses that leverage\u001b[0m\n",
       "\u001b[1;38;5;40m                  > technology to provide financial services and solutions. They often focus on\u001b[0m\n",
       "\u001b[1;38;5;40m                  > improving and automating the delivery of financial services, making them more\u001b[0m\n",
       "\u001b[1;38;5;40m                  > accessible and efficient. Some key areas where fintechs are making an impact\u001b[0m\n",
       "\u001b[1;38;5;40m                  > include mobile banking, peer-to-peer lending, payment processing, and investment\u001b[0m\n",
       "\u001b[1;38;5;40m                  > management.   The rise of fintechs has created significant competition in the\u001b[0m\n",
       "\u001b[1;38;5;40m                  > financial sector, pushing traditional banks to innovate and adapt to changing\u001b[0m\n",
       "\u001b[1;38;5;40m                  > consumer expectations. This shift presents both opportunities and challenges for\u001b[0m\n",
       "\u001b[1;38;5;40m                  > my organization as we strive to develop products that can compete effectively in\u001b[0m\n",
       "\u001b[1;38;5;40m                  > this evolving landscape.\u001b[0m\n"
      ]
     },
     "metadata": {},
     "output_type": "display_data"
    },
    {
     "data": {
      "text/html": [
       "<pre style=\"margin:0px;;white-space:pre;overflow-x:auto;line-height:normal;font-family:Menlo,'DejaVu Sans Mono',consolas,'Courier New',monospace\"><span style=\"color: #d0d0d0; text-decoration-color: #d0d0d0; text-decoration: underline\">Emily Carter</span><span style=\"color: #d0d0d0; text-decoration-color: #d0d0d0\"> acts: </span><span style=\"color: #d0d0d0; text-decoration-color: #d0d0d0; font-weight: bold\">[</span><span style=\"color: #d0d0d0; text-decoration-color: #d0d0d0\">DONE</span><span style=\"color: #d0d0d0; text-decoration-color: #d0d0d0; font-weight: bold\">]</span><span style=\"color: #d0d0d0; text-decoration-color: #d0d0d0\"> </span>\n",
       "\n",
       "</pre>\n"
      ],
      "text/plain": [
       "\u001b[4;38;5;252mEmily Carter\u001b[0m\u001b[38;5;252m acts: \u001b[0m\u001b[1;38;5;252m[\u001b[0m\u001b[38;5;252mDONE\u001b[0m\u001b[1;38;5;252m]\u001b[0m\u001b[38;5;252m \u001b[0m\n",
       "\n"
      ]
     },
     "metadata": {},
     "output_type": "display_data"
    }
   ],
   "source": [
    "customer.listen_and_act(\"Can you elaborate on the fintechs?\", max_content_length=3000)"
   ]
  },
  {
   "cell_type": "code",
   "execution_count": 8,
   "metadata": {},
   "outputs": [
    {
     "data": {
      "text/html": [
       "<pre style=\"margin:0px;;white-space:pre;overflow-x:auto;line-height:normal;font-family:Menlo,'DejaVu Sans Mono',consolas,'Courier New',monospace\"><span style=\"color: #00ffff; text-decoration-color: #00ffff; font-weight: bold; font-style: italic; text-decoration: underline\">USER</span><span style=\"color: #00ffff; text-decoration-color: #00ffff; font-weight: bold; font-style: italic\"> --&gt; </span><span style=\"color: #00ffff; text-decoration-color: #00ffff; font-weight: bold; font-style: italic; text-decoration: underline\">Emily Carter</span><span style=\"color: #00ffff; text-decoration-color: #00ffff; font-weight: bold; font-style: italic\">: [CONVERSATION] </span>\n",
       "<span style=\"color: #00ffff; text-decoration-color: #00ffff; font-weight: bold; font-style: italic\">          &gt; If you could improve in one of these aspects to better compete, what would that be?</span>\n",
       "</pre>\n"
      ],
      "text/plain": [
       "\u001b[1;3;4;38;5;51mUSER\u001b[0m\u001b[1;3;38;5;51m --> \u001b[0m\u001b[1;3;4;38;5;51mEmily Carter\u001b[0m\u001b[1;3;38;5;51m: \u001b[0m\u001b[1;3;38;5;51m[\u001b[0m\u001b[1;3;38;5;51mCONVERSATION\u001b[0m\u001b[1;3;38;5;51m]\u001b[0m\u001b[1;3;38;5;51m \u001b[0m\n",
       "\u001b[1;3;38;5;51m          > If you could improve in one of these aspects to better compete, what would that be?\u001b[0m\n"
      ]
     },
     "metadata": {},
     "output_type": "display_data"
    },
    {
     "data": {
      "text/html": [
       "<pre style=\"margin:0px;;white-space:pre;overflow-x:auto;line-height:normal;font-family:Menlo,'DejaVu Sans Mono',consolas,'Courier New',monospace\"><span style=\"color: #00d700; text-decoration-color: #00d700; font-weight: bold; text-decoration: underline\">Emily Carter</span><span style=\"color: #00d700; text-decoration-color: #00d700; font-weight: bold\"> acts: [TALK] </span>\n",
       "<span style=\"color: #00d700; text-decoration-color: #00d700; font-weight: bold\">                  &gt; If I could improve in one aspect to better compete, it would be enhancing our</span>\n",
       "<span style=\"color: #00d700; text-decoration-color: #00d700; font-weight: bold\">                  &gt; data analytics capabilities. By leveraging advanced analytics, we can gain</span>\n",
       "<span style=\"color: #00d700; text-decoration-color: #00d700; font-weight: bold\">                  &gt; deeper insights into customer behavior and preferences, allowing us to tailor</span>\n",
       "<span style=\"color: #00d700; text-decoration-color: #00d700; font-weight: bold\">                  &gt; our products more effectively. This would not only help us stay ahead of fintech</span>\n",
       "<span style=\"color: #00d700; text-decoration-color: #00d700; font-weight: bold\">                  &gt; competitors but also ensure that we are meeting the evolving needs of our</span>\n",
       "<span style=\"color: #00d700; text-decoration-color: #00d700; font-weight: bold\">                  &gt; customers in a timely manner.</span>\n",
       "</pre>\n"
      ],
      "text/plain": [
       "\u001b[1;4;38;5;40mEmily Carter\u001b[0m\u001b[1;38;5;40m acts: \u001b[0m\u001b[1;38;5;40m[\u001b[0m\u001b[1;38;5;40mTALK\u001b[0m\u001b[1;38;5;40m]\u001b[0m\u001b[1;38;5;40m \u001b[0m\n",
       "\u001b[1;38;5;40m                  > If I could improve in one aspect to better compete, it would be enhancing our\u001b[0m\n",
       "\u001b[1;38;5;40m                  > data analytics capabilities. By leveraging advanced analytics, we can gain\u001b[0m\n",
       "\u001b[1;38;5;40m                  > deeper insights into customer behavior and preferences, allowing us to tailor\u001b[0m\n",
       "\u001b[1;38;5;40m                  > our products more effectively. This would not only help us stay ahead of fintech\u001b[0m\n",
       "\u001b[1;38;5;40m                  > competitors but also ensure that we are meeting the evolving needs of our\u001b[0m\n",
       "\u001b[1;38;5;40m                  > customers in a timely manner.\u001b[0m\n"
      ]
     },
     "metadata": {},
     "output_type": "display_data"
    },
    {
     "data": {
      "text/html": [
       "<pre style=\"margin:0px;;white-space:pre;overflow-x:auto;line-height:normal;font-family:Menlo,'DejaVu Sans Mono',consolas,'Courier New',monospace\"><span style=\"color: #d0d0d0; text-decoration-color: #d0d0d0; text-decoration: underline\">Emily Carter</span><span style=\"color: #d0d0d0; text-decoration-color: #d0d0d0\"> acts: </span><span style=\"color: #d0d0d0; text-decoration-color: #d0d0d0; font-weight: bold\">[</span><span style=\"color: #d0d0d0; text-decoration-color: #d0d0d0\">DONE</span><span style=\"color: #d0d0d0; text-decoration-color: #d0d0d0; font-weight: bold\">]</span><span style=\"color: #d0d0d0; text-decoration-color: #d0d0d0\"> </span>\n",
       "\n",
       "</pre>\n"
      ],
      "text/plain": [
       "\u001b[4;38;5;252mEmily Carter\u001b[0m\u001b[38;5;252m acts: \u001b[0m\u001b[1;38;5;252m[\u001b[0m\u001b[38;5;252mDONE\u001b[0m\u001b[1;38;5;252m]\u001b[0m\u001b[38;5;252m \u001b[0m\n",
       "\n"
      ]
     },
     "metadata": {},
     "output_type": "display_data"
    }
   ],
   "source": [
    "customer.listen_and_act(\"If you could improve in one of these aspects to better compete, what would that be?\", max_content_length=3000)"
   ]
  },
  {
   "cell_type": "code",
   "execution_count": 9,
   "metadata": {},
   "outputs": [
    {
     "data": {
      "text/html": [
       "<pre style=\"margin:0px;;white-space:pre;overflow-x:auto;line-height:normal;font-family:Menlo,'DejaVu Sans Mono',consolas,'Courier New',monospace\"><span style=\"color: #00ffff; text-decoration-color: #00ffff; font-weight: bold; font-style: italic; text-decoration: underline\">USER</span><span style=\"color: #00ffff; text-decoration-color: #00ffff; font-weight: bold; font-style: italic\"> --&gt; </span><span style=\"color: #00ffff; text-decoration-color: #00ffff; font-weight: bold; font-style: italic; text-decoration: underline\">Emily Carter</span><span style=\"color: #00ffff; text-decoration-color: #00ffff; font-weight: bold; font-style: italic\">: [CONVERSATION] </span>\n",
       "<span style=\"color: #00ffff; text-decoration-color: #00ffff; font-weight: bold; font-style: italic\">          &gt; Please give more detail about that, so that we can think about a project to pursue this</span>\n",
       "<span style=\"color: #00ffff; text-decoration-color: #00ffff; font-weight: bold; font-style: italic\">          &gt; direction.</span>\n",
       "</pre>\n"
      ],
      "text/plain": [
       "\u001b[1;3;4;38;5;51mUSER\u001b[0m\u001b[1;3;38;5;51m --> \u001b[0m\u001b[1;3;4;38;5;51mEmily Carter\u001b[0m\u001b[1;3;38;5;51m: \u001b[0m\u001b[1;3;38;5;51m[\u001b[0m\u001b[1;3;38;5;51mCONVERSATION\u001b[0m\u001b[1;3;38;5;51m]\u001b[0m\u001b[1;3;38;5;51m \u001b[0m\n",
       "\u001b[1;3;38;5;51m          > Please give more detail about that, so that we can think about a project to pursue this\u001b[0m\n",
       "\u001b[1;3;38;5;51m          > direction.\u001b[0m\n"
      ]
     },
     "metadata": {},
     "output_type": "display_data"
    },
    {
     "data": {
      "text/html": [
       "<pre style=\"margin:0px;;white-space:pre;overflow-x:auto;line-height:normal;font-family:Menlo,'DejaVu Sans Mono',consolas,'Courier New',monospace\"><span style=\"color: #00d700; text-decoration-color: #00d700; font-weight: bold; text-decoration: underline\">Emily Carter</span><span style=\"color: #00d700; text-decoration-color: #00d700; font-weight: bold\"> acts: [TALK] </span>\n",
       "<span style=\"color: #00d700; text-decoration-color: #00d700; font-weight: bold\">                  &gt; To enhance our data analytics capabilities, we could consider a project that</span>\n",
       "<span style=\"color: #00d700; text-decoration-color: #00d700; font-weight: bold\">                  &gt; focuses on implementing advanced analytics tools and techniques. This could</span>\n",
       "<span style=\"color: #00d700; text-decoration-color: #00d700; font-weight: bold\">                  &gt; involve several key steps:  </span><span style=\"color: #00d700; text-decoration-color: #00d700; font-weight: bold\">1</span><span style=\"color: #00d700; text-decoration-color: #00d700; font-weight: bold\">. **Assessment of Current Capabilities**: We would</span>\n",
       "<span style=\"color: #00d700; text-decoration-color: #00d700; font-weight: bold\">                  &gt; start by evaluating our existing data infrastructure and analytics tools to</span>\n",
       "<span style=\"color: #00d700; text-decoration-color: #00d700; font-weight: bold\">                  &gt; identify gaps and areas for improvement.  </span><span style=\"color: #00d700; text-decoration-color: #00d700; font-weight: bold\">2</span><span style=\"color: #00d700; text-decoration-color: #00d700; font-weight: bold\">. **Investing in Technology**: We</span>\n",
       "<span style=\"color: #00d700; text-decoration-color: #00d700; font-weight: bold\">                  &gt; could explore partnerships with technology providers that specialize in data</span>\n",
       "<span style=\"color: #00d700; text-decoration-color: #00d700; font-weight: bold\">                  &gt; analytics solutions, such as machine learning and AI tools, to enhance our</span>\n",
       "<span style=\"color: #00d700; text-decoration-color: #00d700; font-weight: bold\">                  &gt; analytical capabilities.  </span><span style=\"color: #00d700; text-decoration-color: #00d700; font-weight: bold\">3</span><span style=\"color: #00d700; text-decoration-color: #00d700; font-weight: bold\">. **Training and Development**: It's essential to</span>\n",
       "<span style=\"color: #00d700; text-decoration-color: #00d700; font-weight: bold\">                  &gt; invest in training our team on these new tools and techniques. This could</span>\n",
       "<span style=\"color: #00d700; text-decoration-color: #00d700; font-weight: bold\">                  &gt; involve workshops, online courses, or bringing in experts to help us build our</span>\n",
       "<span style=\"color: #00d700; text-decoration-color: #00d700; font-weight: bold\">                  &gt; skills.  </span><span style=\"color: #00d700; text-decoration-color: #00d700; font-weight: bold\">4</span><span style=\"color: #00d700; text-decoration-color: #00d700; font-weight: bold\">. **Data Integration**: We should focus on integrating data from</span>\n",
       "<span style=\"color: #00d700; text-decoration-color: #00d700; font-weight: bold\">                  &gt; various sources, including customer interactions, market trends, and internal</span>\n",
       "<span style=\"color: #00d700; text-decoration-color: #00d700; font-weight: bold\">                  &gt; performance metrics, to create a comprehensive view that informs our product</span>\n",
       "<span style=\"color: #00d700; text-decoration-color: #00d700; font-weight: bold\">                  &gt; development.  </span><span style=\"color: #00d700; text-decoration-color: #00d700; font-weight: bold\">5</span><span style=\"color: #00d700; text-decoration-color: #00d700; font-weight: bold\">. **Pilot Projects**: We could initiate pilot projects to test</span>\n",
       "<span style=\"color: #00d700; text-decoration-color: #00d700; font-weight: bold\">                  &gt; the effectiveness of our new analytics capabilities on specific product lines or</span>\n",
       "<span style=\"color: #00d700; text-decoration-color: #00d700; font-weight: bold\">                  &gt; customer segments, allowing us to refine our approach before a full rollout.  </span><span style=\"color: #00d700; text-decoration-color: #00d700; font-weight: bold\">6</span><span style=\"color: #00d700; text-decoration-color: #00d700; font-weight: bold\">.</span>\n",
       "<span style=\"color: #00d700; text-decoration-color: #00d700; font-weight: bold\">                  &gt; **Continuous Improvement**: Finally, we should establish a feedback loop to</span>\n",
       "<span style=\"color: #00d700; text-decoration-color: #00d700; font-weight: bold\">                  &gt; continuously assess the impact of our analytics efforts and make adjustments as</span>\n",
       "<span style=\"color: #00d700; text-decoration-color: #00d700; font-weight: bold\">                  &gt; needed to ensure we are meeting our goals.</span>\n",
       "</pre>\n"
      ],
      "text/plain": [
       "\u001b[1;4;38;5;40mEmily Carter\u001b[0m\u001b[1;38;5;40m acts: \u001b[0m\u001b[1;38;5;40m[\u001b[0m\u001b[1;38;5;40mTALK\u001b[0m\u001b[1;38;5;40m]\u001b[0m\u001b[1;38;5;40m \u001b[0m\n",
       "\u001b[1;38;5;40m                  > To enhance our data analytics capabilities, we could consider a project that\u001b[0m\n",
       "\u001b[1;38;5;40m                  > focuses on implementing advanced analytics tools and techniques. This could\u001b[0m\n",
       "\u001b[1;38;5;40m                  > involve several key steps:  \u001b[0m\u001b[1;38;5;40m1\u001b[0m\u001b[1;38;5;40m. **Assessment of Current Capabilities**: We would\u001b[0m\n",
       "\u001b[1;38;5;40m                  > start by evaluating our existing data infrastructure and analytics tools to\u001b[0m\n",
       "\u001b[1;38;5;40m                  > identify gaps and areas for improvement.  \u001b[0m\u001b[1;38;5;40m2\u001b[0m\u001b[1;38;5;40m. **Investing in Technology**: We\u001b[0m\n",
       "\u001b[1;38;5;40m                  > could explore partnerships with technology providers that specialize in data\u001b[0m\n",
       "\u001b[1;38;5;40m                  > analytics solutions, such as machine learning and AI tools, to enhance our\u001b[0m\n",
       "\u001b[1;38;5;40m                  > analytical capabilities.  \u001b[0m\u001b[1;38;5;40m3\u001b[0m\u001b[1;38;5;40m. **Training and Development**: It's essential to\u001b[0m\n",
       "\u001b[1;38;5;40m                  > invest in training our team on these new tools and techniques. This could\u001b[0m\n",
       "\u001b[1;38;5;40m                  > involve workshops, online courses, or bringing in experts to help us build our\u001b[0m\n",
       "\u001b[1;38;5;40m                  > skills.  \u001b[0m\u001b[1;38;5;40m4\u001b[0m\u001b[1;38;5;40m. **Data Integration**: We should focus on integrating data from\u001b[0m\n",
       "\u001b[1;38;5;40m                  > various sources, including customer interactions, market trends, and internal\u001b[0m\n",
       "\u001b[1;38;5;40m                  > performance metrics, to create a comprehensive view that informs our product\u001b[0m\n",
       "\u001b[1;38;5;40m                  > development.  \u001b[0m\u001b[1;38;5;40m5\u001b[0m\u001b[1;38;5;40m. **Pilot Projects**: We could initiate pilot projects to test\u001b[0m\n",
       "\u001b[1;38;5;40m                  > the effectiveness of our new analytics capabilities on specific product lines or\u001b[0m\n",
       "\u001b[1;38;5;40m                  > customer segments, allowing us to refine our approach before a full rollout.  \u001b[0m\u001b[1;38;5;40m6\u001b[0m\u001b[1;38;5;40m.\u001b[0m\n",
       "\u001b[1;38;5;40m                  > **Continuous Improvement**: Finally, we should establish a feedback loop to\u001b[0m\n",
       "\u001b[1;38;5;40m                  > continuously assess the impact of our analytics efforts and make adjustments as\u001b[0m\n",
       "\u001b[1;38;5;40m                  > needed to ensure we are meeting our goals.\u001b[0m\n"
      ]
     },
     "metadata": {},
     "output_type": "display_data"
    },
    {
     "data": {
      "text/html": [
       "<pre style=\"margin:0px;;white-space:pre;overflow-x:auto;line-height:normal;font-family:Menlo,'DejaVu Sans Mono',consolas,'Courier New',monospace\"><span style=\"color: #d0d0d0; text-decoration-color: #d0d0d0; text-decoration: underline\">Emily Carter</span><span style=\"color: #d0d0d0; text-decoration-color: #d0d0d0\"> acts: </span><span style=\"color: #d0d0d0; text-decoration-color: #d0d0d0; font-weight: bold\">[</span><span style=\"color: #d0d0d0; text-decoration-color: #d0d0d0\">DONE</span><span style=\"color: #d0d0d0; text-decoration-color: #d0d0d0; font-weight: bold\">]</span><span style=\"color: #d0d0d0; text-decoration-color: #d0d0d0\"> </span>\n",
       "\n",
       "</pre>\n"
      ],
      "text/plain": [
       "\u001b[4;38;5;252mEmily Carter\u001b[0m\u001b[38;5;252m acts: \u001b[0m\u001b[1;38;5;252m[\u001b[0m\u001b[38;5;252mDONE\u001b[0m\u001b[1;38;5;252m]\u001b[0m\u001b[38;5;252m \u001b[0m\n",
       "\n"
      ]
     },
     "metadata": {},
     "output_type": "display_data"
    }
   ],
   "source": [
    "customer.listen_and_act(\"Please give more detail about that, so that we can think about a project to pursue this direction.\", \n",
    "                        max_content_length=3000)"
   ]
  },
  {
   "cell_type": "code",
   "execution_count": null,
   "metadata": {},
   "outputs": [],
   "source": []
  }
 ],
 "metadata": {
  "kernelspec": {
   "display_name": "Python 3",
   "language": "python",
   "name": "python3"
  },
  "language_info": {
   "codemirror_mode": {
    "name": "ipython",
    "version": 3
   },
   "file_extension": ".py",
   "mimetype": "text/x-python",
   "name": "python",
   "nbconvert_exporter": "python",
   "pygments_lexer": "ipython3",
   "version": "3.10.13"
  },
  "orig_nbformat": 4
 },
 "nbformat": 4,
 "nbformat_minor": 2
}
