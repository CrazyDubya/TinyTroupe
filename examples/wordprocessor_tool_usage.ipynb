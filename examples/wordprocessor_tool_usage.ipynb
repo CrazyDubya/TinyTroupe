{
 "cells": [
  {
   "cell_type": "markdown",
   "metadata": {},
   "source": [
    "# Wordprocessor usage example\n",
    "\n"
   ]
  },
  {
   "cell_type": "code",
   "execution_count": 1,
   "metadata": {},
   "outputs": [
    {
     "name": "stdout",
     "output_type": "stream",
     "text": [
      "\n",
      "!!!!\n",
      "DISCLAIMER: TinyTroupe relies on Artificial Intelligence (AI) models to generate content. \n",
      "The AI models are not perfect and may produce inappropriate or inacurate results. \n",
      "For any serious or consequential use, please review the generated content before using it.\n",
      "!!!!\n",
      "\n",
      "Looking for default config on: c:\\Users\\pdasilva\\repos\\TinyTroupe\\examples\\..\\tinytroupe\\utils\\..\\config.ini\n",
      "Found custom config on: c:\\Users\\pdasilva\\repos\\TinyTroupe\\examples\\config.ini\n",
      "\n",
      "=================================\n",
      "Current TinyTroupe configuration \n",
      "=================================\n",
      "[OpenAI]\n",
      "api_type = openai\n",
      "azure_api_version = 2024-08-01-preview\n",
      "model = gpt-4o-mini\n",
      "reasoning_model = o3-mini\n",
      "embedding_model = text-embedding-3-small\n",
      "max_tokens = 16000\n",
      "temperature = 1.2\n",
      "freq_penalty = 0.0\n",
      "presence_penalty = 0.0\n",
      "timeout = 60\n",
      "max_attempts = 5\n",
      "waiting_time = 0\n",
      "exponential_backoff_factor = 5\n",
      "reasoning_effort = high\n",
      "cache_api_calls = False\n",
      "cache_file_name = openai_api_cache.pickle\n",
      "max_content_display_length = 1024\n",
      "azure_embedding_model_api_version = 2023-05-15\n",
      "\n",
      "[Simulation]\n",
      "parallel_agent_generation = True\n",
      "parallel_agent_actions = True\n",
      "rai_harmful_content_prevention = True\n",
      "rai_copyright_infringement_prevention = True\n",
      "\n",
      "[ActionGenerator]\n",
      "max_attempts = 2\n",
      "enable_quality_checks = False\n",
      "enable_regeneration = False\n",
      "enable_direct_correction = False\n",
      "continue_on_failure = True\n",
      "quality_threshold = 2\n",
      "\n",
      "[Logging]\n",
      "loglevel = ERROR\n",
      "\n"
     ]
    }
   ],
   "source": [
    "import json\n",
    "import sys\n",
    "import csv\n",
    "sys.path.insert(0, '..') # ensures that the package is imported from the parent directory, not the Python installation\n",
    "\n",
    "\n",
    "import tinytroupe\n",
    "from tinytroupe.openai_utils import force_api_type\n",
    "from tinytroupe.factory import TinyPersonFactory\n",
    "from tinytroupe.agent import TinyPerson, TinyToolUse\n",
    "from tinytroupe.environment import TinyWorld\n",
    "from tinytroupe import control\n",
    "from tinytroupe.extraction import ResultsExtractor, ResultsReducer\n",
    "from tinytroupe.enrichment import TinyEnricher\n",
    "from tinytroupe.extraction import ArtifactExporter\n",
    "from tinytroupe.tools import TinyWordProcessor\n",
    "from tinytroupe.steering import TinyStory\n",
    "import tinytroupe.utils as utils\n",
    "from tinytroupe.examples import create_lisa_the_data_scientist, create_oscar_the_architect, create_marcos_the_physician"
   ]
  },
  {
   "cell_type": "code",
   "execution_count": 2,
   "metadata": {},
   "outputs": [],
   "source": [
    "data_export_folder = \"../data/extractions/wordprocessor\""
   ]
  },
  {
   "cell_type": "code",
   "execution_count": 3,
   "metadata": {},
   "outputs": [],
   "source": [
    "exporter = ArtifactExporter(base_output_folder=data_export_folder)\n",
    "enricher = TinyEnricher()\n",
    "tooluse_faculty = TinyToolUse(tools=[TinyWordProcessor(exporter=exporter, enricher=enricher)])"
   ]
  },
  {
   "cell_type": "code",
   "execution_count": 4,
   "metadata": {},
   "outputs": [],
   "source": [
    "lisa = create_lisa_the_data_scientist()"
   ]
  },
  {
   "cell_type": "code",
   "execution_count": 5,
   "metadata": {},
   "outputs": [
    {
     "data": {
      "text/plain": [
       "TinyPerson(name='Lisa Carter')"
      ]
     },
     "execution_count": 5,
     "metadata": {},
     "output_type": "execute_result"
    }
   ],
   "source": [
    "lisa.add_mental_faculties([tooluse_faculty])\n"
   ]
  },
  {
   "cell_type": "code",
   "execution_count": 6,
   "metadata": {},
   "outputs": [
    {
     "data": {
      "text/html": [
       "<pre style=\"margin:0px;;white-space:pre;overflow-x:auto;line-height:normal;font-family:Menlo,'DejaVu Sans Mono',consolas,'Courier New',monospace\"><span style=\"color: #00ffff; text-decoration-color: #00ffff; font-weight: bold; font-style: italic; text-decoration: underline\">USER</span><span style=\"color: #00ffff; text-decoration-color: #00ffff; font-weight: bold; font-style: italic\"> --&gt; </span><span style=\"color: #00ffff; text-decoration-color: #00ffff; font-weight: bold; font-style: italic; text-decoration: underline\">Lisa Carter</span><span style=\"color: #00ffff; text-decoration-color: #00ffff; font-weight: bold; font-style: italic\">: [CONVERSATION] </span>\n",
       "<span style=\"color: #00ffff; text-decoration-color: #00ffff; font-weight: bold; font-style: italic\">          &gt; You have just been fired and need to find a new job. You decide to think about what you</span>\n",
       "<span style=\"color: #00ffff; text-decoration-color: #00ffff; font-weight: bold; font-style: italic\">          &gt; want in life and then write a resume. Make it very detailed.</span>\n",
       "</pre>\n"
      ],
      "text/plain": [
       "\u001b[1;3;4;38;5;51mUSER\u001b[0m\u001b[1;3;38;5;51m --> \u001b[0m\u001b[1;3;4;38;5;51mLisa Carter\u001b[0m\u001b[1;3;38;5;51m: \u001b[0m\u001b[1;3;38;5;51m[\u001b[0m\u001b[1;3;38;5;51mCONVERSATION\u001b[0m\u001b[1;3;38;5;51m]\u001b[0m\u001b[1;3;38;5;51m \u001b[0m\n",
       "\u001b[1;3;38;5;51m          > You have just been fired and need to find a new job. You decide to think about what you\u001b[0m\n",
       "\u001b[1;3;38;5;51m          > want in life and then write a resume. Make it very detailed.\u001b[0m\n"
      ]
     },
     "metadata": {},
     "output_type": "display_data"
    },
    {
     "data": {
      "text/html": [
       "<pre style=\"margin:0px;;white-space:pre;overflow-x:auto;line-height:normal;font-family:Menlo,'DejaVu Sans Mono',consolas,'Courier New',monospace\"><span style=\"color: #008000; text-decoration-color: #008000; text-decoration: underline\">Lisa Carter</span><span style=\"color: #008000; text-decoration-color: #008000\"> acts: </span><span style=\"color: #008000; text-decoration-color: #008000; font-weight: bold\">[</span><span style=\"color: #008000; text-decoration-color: #008000\">THINK</span><span style=\"color: #008000; text-decoration-color: #008000; font-weight: bold\">]</span><span style=\"color: #008000; text-decoration-color: #008000\"> </span>\n",
       "<span style=\"color: #008000; text-decoration-color: #008000\">                 &gt; I've just been fired, and I need to reflect on what I truly want in my career. I</span>\n",
       "<span style=\"color: #008000; text-decoration-color: #008000\">                 &gt; want a job that allows me to utilize my skills in data science, particularly in</span>\n",
       "<span style=\"color: #008000; text-decoration-color: #008000\">                 &gt; AI and machine learning. I also want a role that promotes collaboration and</span>\n",
       "<span style=\"color: #008000; text-decoration-color: #008000\">                 &gt; innovation, and where I can continue to learn and grow. It's important for me to</span>\n",
       "<span style=\"color: #008000; text-decoration-color: #008000\">                 &gt; find a position that aligns with my long-term goals of enhancing human</span>\n",
       "<span style=\"color: #008000; text-decoration-color: #008000\">                 &gt; productivity through technology. I should also consider the work environment and</span>\n",
       "<span style=\"color: #008000; text-decoration-color: #008000\">                 &gt; company culture, as I value a supportive and engaging atmosphere.</span>\n",
       "</pre>\n"
      ],
      "text/plain": [
       "\u001b[4;32mLisa Carter\u001b[0m\u001b[32m acts: \u001b[0m\u001b[1;32m[\u001b[0m\u001b[32mTHINK\u001b[0m\u001b[1;32m]\u001b[0m\u001b[32m \u001b[0m\n",
       "\u001b[32m                 > I've just been fired, and I need to reflect on what I truly want in my career. I\u001b[0m\n",
       "\u001b[32m                 > want a job that allows me to utilize my skills in data science, particularly in\u001b[0m\n",
       "\u001b[32m                 > AI and machine learning. I also want a role that promotes collaboration and\u001b[0m\n",
       "\u001b[32m                 > innovation, and where I can continue to learn and grow. It's important for me to\u001b[0m\n",
       "\u001b[32m                 > find a position that aligns with my long-term goals of enhancing human\u001b[0m\n",
       "\u001b[32m                 > productivity through technology. I should also consider the work environment and\u001b[0m\n",
       "\u001b[32m                 > company culture, as I value a supportive and engaging atmosphere.\u001b[0m\n"
      ]
     },
     "metadata": {},
     "output_type": "display_data"
    },
    {
     "data": {
      "text/html": [
       "<pre style=\"margin:0px;;white-space:pre;overflow-x:auto;line-height:normal;font-family:Menlo,'DejaVu Sans Mono',consolas,'Courier New',monospace\"><span style=\"color: #af00ff; text-decoration-color: #af00ff; text-decoration: underline\">Lisa Carter</span><span style=\"color: #af00ff; text-decoration-color: #af00ff\"> acts: </span><span style=\"color: #af00ff; text-decoration-color: #af00ff; font-weight: bold\">[</span><span style=\"color: #af00ff; text-decoration-color: #af00ff\">WRITE_DOCUMENT</span><span style=\"color: #af00ff; text-decoration-color: #af00ff; font-weight: bold\">]</span><span style=\"color: #af00ff; text-decoration-color: #af00ff\"> </span>\n",
       "<span style=\"color: #af00ff; text-decoration-color: #af00ff\">                 &gt; </span><span style=\"color: #af00ff; text-decoration-color: #af00ff; font-weight: bold\">{</span><span style=\"color: #af00ff; text-decoration-color: #af00ff\">   </span><span style=\"color: #af00ff; text-decoration-color: #af00ff\">\"title\"</span><span style=\"color: #af00ff; text-decoration-color: #af00ff\">: </span><span style=\"color: #af00ff; text-decoration-color: #af00ff\">\"Resume of Lisa Carter\"</span><span style=\"color: #af00ff; text-decoration-color: #af00ff\">,   </span><span style=\"color: #af00ff; text-decoration-color: #af00ff\">\"content\"</span><span style=\"color: #af00ff; text-decoration-color: #af00ff\">: \"# Lisa Carter\\n\\n## Contact</span>\n",
       "<span style=\"color: #af00ff; text-decoration-color: #af00ff\">                 &gt; Information\\n- **Email:** lisa.carter@example.com\\n- **Phone:** </span><span style=\"color: #af00ff; text-decoration-color: #af00ff; font-weight: bold\">(</span><span style=\"color: #af00ff; text-decoration-color: #af00ff; font-weight: bold\">123</span><span style=\"color: #af00ff; text-decoration-color: #af00ff; font-weight: bold\">)</span><span style=\"color: #af00ff; text-decoration-color: #af00ff\"> </span><span style=\"color: #af00ff; text-decoration-color: #af00ff; font-weight: bold\">456</span><span style=\"color: #af00ff; text-decoration-color: #af00ff\">-</span><span style=\"color: #af00ff; text-decoration-color: #af00ff; font-weight: bold\">7890</span><span style=\"color: #af00ff; text-decoration-color: #af00ff\">\\n-</span>\n",
       "<span style=\"color: #af00ff; text-decoration-color: #af00ff\">                 &gt; **LinkedIn:** linkedin.com/in/lisacarter\\n\\n## Summary\\nData Scientist with a</span>\n",
       "<span style=\"color: #af00ff; text-decoration-color: #af00ff\">                 &gt; Master's in Data Science from the University of Toronto, specializing in AI and</span>\n",
       "<span style=\"color: #af00ff; text-decoration-color: #af00ff\">                 &gt; machine learning. Proven track record in improving search relevance and user</span>\n",
       "<span style=\"color: #af00ff; text-decoration-color: #af00ff\">                 &gt; experience through data analysis and model development.\\n\\n##</span>\n",
       "<span style=\"color: #af00ff; text-decoration-color: #af00ff\">                 &gt; Education\\n**University of Toronto**   Master's in Data Science   Thesis:</span>\n",
       "<span style=\"color: #af00ff; text-decoration-color: #af00ff\">                 &gt; Improving Search Relevance Using Context-Aware Models   Graduated: </span><span style=\"color: #af00ff; text-decoration-color: #af00ff; font-weight: bold\">2018</span><span style=\"color: #af00ff; text-decoration-color: #af00ff\">\\n\\n##</span>\n",
       "<span style=\"color: #af00ff; text-decoration-color: #af00ff\">                 &gt; Work Experience\\n**Microsoft, M365 Search Team**   Data Scientist   </span><span style=\"color: #af00ff; text-decoration-color: #af00ff; font-weight: bold\">2018</span><span style=\"color: #af00ff; text-decoration-color: #af00ff\"> -</span>\n",
       "<span style=\"color: #af00ff; text-decoration-color: #af00ff\">                 &gt; Present   - Analyzed user behavior and feedback data to enhance search result</span>\n",
       "<span style=\"color: #af00ff; text-decoration-color: #af00ff\">                 &gt; relevance.   - Developed and tested machine learning models for natural language</span>\n",
       "<span style=\"color: #af00ff; text-decoration-color: #af00ff\">                 &gt; understanding and query expansion.   - Collaborated with cross-functional teams</span>\n",
       "<span style=\"color: #af00ff; text-decoration-color: #af00ff\">                 &gt; to address data challenges and improve model accuracy.   - Ensured compliance</span>\n",
       "<span style=\"color: #af00ff; text-decoration-color: #af00ff\">                 &gt; with privacy and secu </span><span style=\"color: #af00ff; text-decoration-color: #af00ff; font-weight: bold\">(</span><span style=\"color: #af00ff; text-decoration-color: #af00ff\">...</span><span style=\"color: #af00ff; text-decoration-color: #af00ff; font-weight: bold\">)</span>\n",
       "</pre>\n"
      ],
      "text/plain": [
       "\u001b[4;38;5;129mLisa Carter\u001b[0m\u001b[38;5;129m acts: \u001b[0m\u001b[1;38;5;129m[\u001b[0m\u001b[38;5;129mWRITE_DOCUMENT\u001b[0m\u001b[1;38;5;129m]\u001b[0m\u001b[38;5;129m \u001b[0m\n",
       "\u001b[38;5;129m                 > \u001b[0m\u001b[1;38;5;129m{\u001b[0m\u001b[38;5;129m   \u001b[0m\u001b[38;5;129m\"title\"\u001b[0m\u001b[38;5;129m: \u001b[0m\u001b[38;5;129m\"Resume of Lisa Carter\"\u001b[0m\u001b[38;5;129m,   \u001b[0m\u001b[38;5;129m\"content\"\u001b[0m\u001b[38;5;129m: \"# Lisa Carter\\n\\n## Contact\u001b[0m\n",
       "\u001b[38;5;129m                 > Information\\n- **Email:** lisa.carter@example.com\\n- **Phone:** \u001b[0m\u001b[1;38;5;129m(\u001b[0m\u001b[1;38;5;129m123\u001b[0m\u001b[1;38;5;129m)\u001b[0m\u001b[38;5;129m \u001b[0m\u001b[1;38;5;129m456\u001b[0m\u001b[38;5;129m-\u001b[0m\u001b[1;38;5;129m7890\u001b[0m\u001b[38;5;129m\\n-\u001b[0m\n",
       "\u001b[38;5;129m                 > **LinkedIn:** linkedin.com/in/lisacarter\\n\\n## Summary\\nData Scientist with a\u001b[0m\n",
       "\u001b[38;5;129m                 > Master's in Data Science from the University of Toronto, specializing in AI and\u001b[0m\n",
       "\u001b[38;5;129m                 > machine learning. Proven track record in improving search relevance and user\u001b[0m\n",
       "\u001b[38;5;129m                 > experience through data analysis and model development.\\n\\n##\u001b[0m\n",
       "\u001b[38;5;129m                 > Education\\n**University of Toronto**   Master's in Data Science   Thesis:\u001b[0m\n",
       "\u001b[38;5;129m                 > Improving Search Relevance Using Context-Aware Models   Graduated: \u001b[0m\u001b[1;38;5;129m2018\u001b[0m\u001b[38;5;129m\\n\\n##\u001b[0m\n",
       "\u001b[38;5;129m                 > Work Experience\\n**Microsoft, M365 Search Team**   Data Scientist   \u001b[0m\u001b[1;38;5;129m2018\u001b[0m\u001b[38;5;129m -\u001b[0m\n",
       "\u001b[38;5;129m                 > Present   - Analyzed user behavior and feedback data to enhance search result\u001b[0m\n",
       "\u001b[38;5;129m                 > relevance.   - Developed and tested machine learning models for natural language\u001b[0m\n",
       "\u001b[38;5;129m                 > understanding and query expansion.   - Collaborated with cross-functional teams\u001b[0m\n",
       "\u001b[38;5;129m                 > to address data challenges and improve model accuracy.   - Ensured compliance\u001b[0m\n",
       "\u001b[38;5;129m                 > with privacy and secu \u001b[0m\u001b[1;38;5;129m(\u001b[0m\u001b[38;5;129m...\u001b[0m\u001b[1;38;5;129m)\u001b[0m\n"
      ]
     },
     "metadata": {},
     "output_type": "display_data"
    },
    {
     "data": {
      "text/html": [
       "<pre style=\"margin:0px;;white-space:pre;overflow-x:auto;line-height:normal;font-family:Menlo,'DejaVu Sans Mono',consolas,'Courier New',monospace\"><span style=\"color: #008000; text-decoration-color: #008000; text-decoration: underline\">Lisa Carter</span><span style=\"color: #008000; text-decoration-color: #008000\"> acts: </span><span style=\"color: #008000; text-decoration-color: #008000; font-weight: bold\">[</span><span style=\"color: #008000; text-decoration-color: #008000\">THINK</span><span style=\"color: #008000; text-decoration-color: #008000; font-weight: bold\">]</span><span style=\"color: #008000; text-decoration-color: #008000\"> </span>\n",
       "<span style=\"color: #008000; text-decoration-color: #008000\">                 &gt; Now that I've written my resume, I need to think about how to effectively search</span>\n",
       "<span style=\"color: #008000; text-decoration-color: #008000\">                 &gt; for new job opportunities. I should consider updating my LinkedIn profile to</span>\n",
       "<span style=\"color: #008000; text-decoration-color: #008000\">                 &gt; reflect my latest experiences and skills. Additionally, I should reach out to my</span>\n",
       "<span style=\"color: #008000; text-decoration-color: #008000\">                 &gt; network, including colleagues like Alex and my manager Sara, to let them know I'm</span>\n",
       "<span style=\"color: #008000; text-decoration-color: #008000\">                 &gt; looking for new opportunities. I might also want to explore job boards and</span>\n",
       "<span style=\"color: #008000; text-decoration-color: #008000\">                 &gt; company websites to find openings that align with my interests in AI and data</span>\n",
       "<span style=\"color: #008000; text-decoration-color: #008000\">                 &gt; science.</span>\n",
       "</pre>\n"
      ],
      "text/plain": [
       "\u001b[4;32mLisa Carter\u001b[0m\u001b[32m acts: \u001b[0m\u001b[1;32m[\u001b[0m\u001b[32mTHINK\u001b[0m\u001b[1;32m]\u001b[0m\u001b[32m \u001b[0m\n",
       "\u001b[32m                 > Now that I've written my resume, I need to think about how to effectively search\u001b[0m\n",
       "\u001b[32m                 > for new job opportunities. I should consider updating my LinkedIn profile to\u001b[0m\n",
       "\u001b[32m                 > reflect my latest experiences and skills. Additionally, I should reach out to my\u001b[0m\n",
       "\u001b[32m                 > network, including colleagues like Alex and my manager Sara, to let them know I'm\u001b[0m\n",
       "\u001b[32m                 > looking for new opportunities. I might also want to explore job boards and\u001b[0m\n",
       "\u001b[32m                 > company websites to find openings that align with my interests in AI and data\u001b[0m\n",
       "\u001b[32m                 > science.\u001b[0m\n"
      ]
     },
     "metadata": {},
     "output_type": "display_data"
    },
    {
     "data": {
      "text/html": [
       "<pre style=\"margin:0px;;white-space:pre;overflow-x:auto;line-height:normal;font-family:Menlo,'DejaVu Sans Mono',consolas,'Courier New',monospace\"><span style=\"color: #af00ff; text-decoration-color: #af00ff; text-decoration: underline\">Lisa Carter</span><span style=\"color: #af00ff; text-decoration-color: #af00ff\"> acts: </span><span style=\"color: #af00ff; text-decoration-color: #af00ff; font-weight: bold\">[</span><span style=\"color: #af00ff; text-decoration-color: #af00ff\">REACH_OUT</span><span style=\"color: #af00ff; text-decoration-color: #af00ff; font-weight: bold\">]</span><span style=\"color: #af00ff; text-decoration-color: #af00ff\"> </span>\n",
       "\n",
       "</pre>\n"
      ],
      "text/plain": [
       "\u001b[4;38;5;129mLisa Carter\u001b[0m\u001b[38;5;129m acts: \u001b[0m\u001b[1;38;5;129m[\u001b[0m\u001b[38;5;129mREACH_OUT\u001b[0m\u001b[1;38;5;129m]\u001b[0m\u001b[38;5;129m \u001b[0m\n",
       "\n"
      ]
     },
     "metadata": {},
     "output_type": "display_data"
    },
    {
     "data": {
      "text/html": [
       "<pre style=\"margin:0px;;white-space:pre;overflow-x:auto;line-height:normal;font-family:Menlo,'DejaVu Sans Mono',consolas,'Courier New',monospace\"><span style=\"color: #00d700; text-decoration-color: #00d700; font-weight: bold; text-decoration: underline\">Lisa Carter</span><span style=\"color: #00d700; text-decoration-color: #00d700; font-weight: bold\"> acts: [TALK] </span>\n",
       "<span style=\"color: #00d700; text-decoration-color: #00d700; font-weight: bold\">                 &gt; Hey Alex, I hope you're doing well! I wanted to reach out because I've recently</span>\n",
       "<span style=\"color: #00d700; text-decoration-color: #00d700; font-weight: bold\">                 &gt; found myself looking for new job opportunities. If you have any leads or advice,</span>\n",
       "<span style=\"color: #00d700; text-decoration-color: #00d700; font-weight: bold\">                 &gt; I would really appreciate it. Also, I'd love to catch up and hear how things are</span>\n",
       "<span style=\"color: #00d700; text-decoration-color: #00d700; font-weight: bold\">                 &gt; going on your end!</span>\n",
       "</pre>\n"
      ],
      "text/plain": [
       "\u001b[1;4;38;5;40mLisa Carter\u001b[0m\u001b[1;38;5;40m acts: \u001b[0m\u001b[1;38;5;40m[\u001b[0m\u001b[1;38;5;40mTALK\u001b[0m\u001b[1;38;5;40m]\u001b[0m\u001b[1;38;5;40m \u001b[0m\n",
       "\u001b[1;38;5;40m                 > Hey Alex, I hope you're doing well! I wanted to reach out because I've recently\u001b[0m\n",
       "\u001b[1;38;5;40m                 > found myself looking for new job opportunities. If you have any leads or advice,\u001b[0m\n",
       "\u001b[1;38;5;40m                 > I would really appreciate it. Also, I'd love to catch up and hear how things are\u001b[0m\n",
       "\u001b[1;38;5;40m                 > going on your end!\u001b[0m\n"
      ]
     },
     "metadata": {},
     "output_type": "display_data"
    },
    {
     "data": {
      "text/html": [
       "<pre style=\"margin:0px;;white-space:pre;overflow-x:auto;line-height:normal;font-family:Menlo,'DejaVu Sans Mono',consolas,'Courier New',monospace\"><span style=\"color: #d0d0d0; text-decoration-color: #d0d0d0; text-decoration: underline\">Lisa Carter</span><span style=\"color: #d0d0d0; text-decoration-color: #d0d0d0\"> acts: </span><span style=\"color: #d0d0d0; text-decoration-color: #d0d0d0; font-weight: bold\">[</span><span style=\"color: #d0d0d0; text-decoration-color: #d0d0d0\">DONE</span><span style=\"color: #d0d0d0; text-decoration-color: #d0d0d0; font-weight: bold\">]</span><span style=\"color: #d0d0d0; text-decoration-color: #d0d0d0\"> </span>\n",
       "\n",
       "</pre>\n"
      ],
      "text/plain": [
       "\u001b[4;38;5;252mLisa Carter\u001b[0m\u001b[38;5;252m acts: \u001b[0m\u001b[1;38;5;252m[\u001b[0m\u001b[38;5;252mDONE\u001b[0m\u001b[1;38;5;252m]\u001b[0m\u001b[38;5;252m \u001b[0m\n",
       "\n"
      ]
     },
     "metadata": {},
     "output_type": "display_data"
    }
   ],
   "source": [
    "lisa.listen_and_act(\"You have just been fired and need to find a new job. You decide to think about what you want in life and then write a resume. Make it very detailed.\")"
   ]
  },
  {
   "cell_type": "code",
   "execution_count": 7,
   "metadata": {},
   "outputs": [
    {
     "data": {
      "text/html": [
       "<pre style=\"margin:0px;;white-space:pre;overflow-x:auto;line-height:normal;font-family:Menlo,'DejaVu Sans Mono',consolas,'Courier New',monospace\"><span style=\"color: #00ffff; text-decoration-color: #00ffff; font-weight: bold; font-style: italic; text-decoration: underline\">USER</span><span style=\"color: #00ffff; text-decoration-color: #00ffff; font-weight: bold; font-style: italic\"> --&gt; </span><span style=\"color: #00ffff; text-decoration-color: #00ffff; font-weight: bold; font-style: italic; text-decoration: underline\">Lisa Carter</span><span style=\"color: #00ffff; text-decoration-color: #00ffff; font-weight: bold; font-style: italic\">: [CONVERSATION] </span>\n",
       "<span style=\"color: #00ffff; text-decoration-color: #00ffff; font-weight: bold; font-style: italic\">          &gt; What did I just told you?</span>\n",
       "</pre>\n"
      ],
      "text/plain": [
       "\u001b[1;3;4;38;5;51mUSER\u001b[0m\u001b[1;3;38;5;51m --> \u001b[0m\u001b[1;3;4;38;5;51mLisa Carter\u001b[0m\u001b[1;3;38;5;51m: \u001b[0m\u001b[1;3;38;5;51m[\u001b[0m\u001b[1;3;38;5;51mCONVERSATION\u001b[0m\u001b[1;3;38;5;51m]\u001b[0m\u001b[1;3;38;5;51m \u001b[0m\n",
       "\u001b[1;3;38;5;51m          > What did I just told you?\u001b[0m\n"
      ]
     },
     "metadata": {},
     "output_type": "display_data"
    },
    {
     "data": {
      "text/html": [
       "<pre style=\"margin:0px;;white-space:pre;overflow-x:auto;line-height:normal;font-family:Menlo,'DejaVu Sans Mono',consolas,'Courier New',monospace\"><span style=\"color: #008000; text-decoration-color: #008000; text-decoration: underline\">Lisa Carter</span><span style=\"color: #008000; text-decoration-color: #008000\"> acts: </span><span style=\"color: #008000; text-decoration-color: #008000; font-weight: bold\">[</span><span style=\"color: #008000; text-decoration-color: #008000\">THINK</span><span style=\"color: #008000; text-decoration-color: #008000; font-weight: bold\">]</span><span style=\"color: #008000; text-decoration-color: #008000\"> </span>\n",
       "<span style=\"color: #008000; text-decoration-color: #008000\">                 &gt; I need to recall what was just said to me. The question was about what I was told</span>\n",
       "<span style=\"color: #008000; text-decoration-color: #008000\">                 &gt; earlier. I should summarize my recent actions and thoughts regarding my job</span>\n",
       "<span style=\"color: #008000; text-decoration-color: #008000\">                 &gt; search and reaching out to Alex. It's important to be clear and concise in my</span>\n",
       "<span style=\"color: #008000; text-decoration-color: #008000\">                 &gt; response.</span>\n",
       "</pre>\n"
      ],
      "text/plain": [
       "\u001b[4;32mLisa Carter\u001b[0m\u001b[32m acts: \u001b[0m\u001b[1;32m[\u001b[0m\u001b[32mTHINK\u001b[0m\u001b[1;32m]\u001b[0m\u001b[32m \u001b[0m\n",
       "\u001b[32m                 > I need to recall what was just said to me. The question was about what I was told\u001b[0m\n",
       "\u001b[32m                 > earlier. I should summarize my recent actions and thoughts regarding my job\u001b[0m\n",
       "\u001b[32m                 > search and reaching out to Alex. It's important to be clear and concise in my\u001b[0m\n",
       "\u001b[32m                 > response.\u001b[0m\n"
      ]
     },
     "metadata": {},
     "output_type": "display_data"
    },
    {
     "data": {
      "text/html": [
       "<pre style=\"margin:0px;;white-space:pre;overflow-x:auto;line-height:normal;font-family:Menlo,'DejaVu Sans Mono',consolas,'Courier New',monospace\"><span style=\"color: #00d700; text-decoration-color: #00d700; font-weight: bold; text-decoration: underline\">Lisa Carter</span><span style=\"color: #00d700; text-decoration-color: #00d700; font-weight: bold\"> acts: [TALK] </span>\n",
       "<span style=\"color: #00d700; text-decoration-color: #00d700; font-weight: bold\">                 &gt; You asked me what you just told me. I was reflecting on my recent job search and</span>\n",
       "<span style=\"color: #00d700; text-decoration-color: #00d700; font-weight: bold\">                 &gt; how I reached out to Alex for potential leads. I also wrote a detailed resume to</span>\n",
       "<span style=\"color: #00d700; text-decoration-color: #00d700; font-weight: bold\">                 &gt; help with my applications. Is there anything specific you want to know about</span>\n",
       "<span style=\"color: #00d700; text-decoration-color: #00d700; font-weight: bold\">                 &gt; that?</span>\n",
       "</pre>\n"
      ],
      "text/plain": [
       "\u001b[1;4;38;5;40mLisa Carter\u001b[0m\u001b[1;38;5;40m acts: \u001b[0m\u001b[1;38;5;40m[\u001b[0m\u001b[1;38;5;40mTALK\u001b[0m\u001b[1;38;5;40m]\u001b[0m\u001b[1;38;5;40m \u001b[0m\n",
       "\u001b[1;38;5;40m                 > You asked me what you just told me. I was reflecting on my recent job search and\u001b[0m\n",
       "\u001b[1;38;5;40m                 > how I reached out to Alex for potential leads. I also wrote a detailed resume to\u001b[0m\n",
       "\u001b[1;38;5;40m                 > help with my applications. Is there anything specific you want to know about\u001b[0m\n",
       "\u001b[1;38;5;40m                 > that?\u001b[0m\n"
      ]
     },
     "metadata": {},
     "output_type": "display_data"
    },
    {
     "data": {
      "text/html": [
       "<pre style=\"margin:0px;;white-space:pre;overflow-x:auto;line-height:normal;font-family:Menlo,'DejaVu Sans Mono',consolas,'Courier New',monospace\"><span style=\"color: #008000; text-decoration-color: #008000; text-decoration: underline\">Lisa Carter</span><span style=\"color: #008000; text-decoration-color: #008000\"> acts: </span><span style=\"color: #008000; text-decoration-color: #008000; font-weight: bold\">[</span><span style=\"color: #008000; text-decoration-color: #008000\">THINK</span><span style=\"color: #008000; text-decoration-color: #008000; font-weight: bold\">]</span><span style=\"color: #008000; text-decoration-color: #008000\"> </span>\n",
       "<span style=\"color: #008000; text-decoration-color: #008000\">                 &gt; I need to consider my next steps after reaching out to Alex. I should think about</span>\n",
       "<span style=\"color: #008000; text-decoration-color: #008000\">                 &gt; updating my LinkedIn profile to reflect my current job search status and skills.</span>\n",
       "<span style=\"color: #008000; text-decoration-color: #008000\">                 &gt; Additionally, I might want to explore job boards and company websites to find</span>\n",
       "<span style=\"color: #008000; text-decoration-color: #008000\">                 &gt; openings that align with my interests in AI and data science. It's important to</span>\n",
       "<span style=\"color: #008000; text-decoration-color: #008000\">                 &gt; stay proactive during this time.</span>\n",
       "</pre>\n"
      ],
      "text/plain": [
       "\u001b[4;32mLisa Carter\u001b[0m\u001b[32m acts: \u001b[0m\u001b[1;32m[\u001b[0m\u001b[32mTHINK\u001b[0m\u001b[1;32m]\u001b[0m\u001b[32m \u001b[0m\n",
       "\u001b[32m                 > I need to consider my next steps after reaching out to Alex. I should think about\u001b[0m\n",
       "\u001b[32m                 > updating my LinkedIn profile to reflect my current job search status and skills.\u001b[0m\n",
       "\u001b[32m                 > Additionally, I might want to explore job boards and company websites to find\u001b[0m\n",
       "\u001b[32m                 > openings that align with my interests in AI and data science. It's important to\u001b[0m\n",
       "\u001b[32m                 > stay proactive during this time.\u001b[0m\n"
      ]
     },
     "metadata": {},
     "output_type": "display_data"
    },
    {
     "data": {
      "text/html": [
       "<pre style=\"margin:0px;;white-space:pre;overflow-x:auto;line-height:normal;font-family:Menlo,'DejaVu Sans Mono',consolas,'Courier New',monospace\"><span style=\"color: #af00ff; text-decoration-color: #af00ff; text-decoration: underline\">Lisa Carter</span><span style=\"color: #af00ff; text-decoration-color: #af00ff\"> acts: </span><span style=\"color: #af00ff; text-decoration-color: #af00ff; font-weight: bold\">[</span><span style=\"color: #af00ff; text-decoration-color: #af00ff\">REACH_OUT</span><span style=\"color: #af00ff; text-decoration-color: #af00ff; font-weight: bold\">]</span><span style=\"color: #af00ff; text-decoration-color: #af00ff\"> </span>\n",
       "\n",
       "</pre>\n"
      ],
      "text/plain": [
       "\u001b[4;38;5;129mLisa Carter\u001b[0m\u001b[38;5;129m acts: \u001b[0m\u001b[1;38;5;129m[\u001b[0m\u001b[38;5;129mREACH_OUT\u001b[0m\u001b[1;38;5;129m]\u001b[0m\u001b[38;5;129m \u001b[0m\n",
       "\n"
      ]
     },
     "metadata": {},
     "output_type": "display_data"
    },
    {
     "data": {
      "text/html": [
       "<pre style=\"margin:0px;;white-space:pre;overflow-x:auto;line-height:normal;font-family:Menlo,'DejaVu Sans Mono',consolas,'Courier New',monospace\"><span style=\"color: #00d700; text-decoration-color: #00d700; font-weight: bold; text-decoration: underline\">Lisa Carter</span><span style=\"color: #00d700; text-decoration-color: #00d700; font-weight: bold\"> acts: [TALK] </span>\n",
       "<span style=\"color: #00d700; text-decoration-color: #00d700; font-weight: bold\">                 &gt; Hi Sara, I hope you're doing well! I wanted to reach out because I've recently</span>\n",
       "<span style=\"color: #00d700; text-decoration-color: #00d700; font-weight: bold\">                 &gt; found myself looking for new job opportunities. If you have any advice or know of</span>\n",
       "<span style=\"color: #00d700; text-decoration-color: #00d700; font-weight: bold\">                 &gt; any openings, I would really appreciate your help. Thank you!</span>\n",
       "</pre>\n"
      ],
      "text/plain": [
       "\u001b[1;4;38;5;40mLisa Carter\u001b[0m\u001b[1;38;5;40m acts: \u001b[0m\u001b[1;38;5;40m[\u001b[0m\u001b[1;38;5;40mTALK\u001b[0m\u001b[1;38;5;40m]\u001b[0m\u001b[1;38;5;40m \u001b[0m\n",
       "\u001b[1;38;5;40m                 > Hi Sara, I hope you're doing well! I wanted to reach out because I've recently\u001b[0m\n",
       "\u001b[1;38;5;40m                 > found myself looking for new job opportunities. If you have any advice or know of\u001b[0m\n",
       "\u001b[1;38;5;40m                 > any openings, I would really appreciate your help. Thank you!\u001b[0m\n"
      ]
     },
     "metadata": {},
     "output_type": "display_data"
    },
    {
     "data": {
      "text/html": [
       "<pre style=\"margin:0px;;white-space:pre;overflow-x:auto;line-height:normal;font-family:Menlo,'DejaVu Sans Mono',consolas,'Courier New',monospace\"><span style=\"color: #d0d0d0; text-decoration-color: #d0d0d0; text-decoration: underline\">Lisa Carter</span><span style=\"color: #d0d0d0; text-decoration-color: #d0d0d0\"> acts: </span><span style=\"color: #d0d0d0; text-decoration-color: #d0d0d0; font-weight: bold\">[</span><span style=\"color: #d0d0d0; text-decoration-color: #d0d0d0\">DONE</span><span style=\"color: #d0d0d0; text-decoration-color: #d0d0d0; font-weight: bold\">]</span><span style=\"color: #d0d0d0; text-decoration-color: #d0d0d0\"> </span>\n",
       "\n",
       "</pre>\n"
      ],
      "text/plain": [
       "\u001b[4;38;5;252mLisa Carter\u001b[0m\u001b[38;5;252m acts: \u001b[0m\u001b[1;38;5;252m[\u001b[0m\u001b[38;5;252mDONE\u001b[0m\u001b[1;38;5;252m]\u001b[0m\u001b[38;5;252m \u001b[0m\n",
       "\n"
      ]
     },
     "metadata": {},
     "output_type": "display_data"
    }
   ],
   "source": [
    "lisa.listen_and_act(\"What did I just told you?\")"
   ]
  },
  {
   "cell_type": "code",
   "execution_count": null,
   "metadata": {},
   "outputs": [],
   "source": []
  }
 ],
 "metadata": {
  "kernelspec": {
   "display_name": "Python 3",
   "language": "python",
   "name": "python3"
  },
  "language_info": {
   "codemirror_mode": {
    "name": "ipython",
    "version": 3
   },
   "file_extension": ".py",
   "mimetype": "text/x-python",
   "name": "python",
   "nbconvert_exporter": "python",
   "pygments_lexer": "ipython3",
   "version": "3.10.13"
  },
  "orig_nbformat": 4
 },
 "nbformat": 4,
 "nbformat_minor": 2
}
